{
 "cells": [
  {
   "cell_type": "code",
   "execution_count": 3,
   "metadata": {},
   "outputs": [
    {
     "name": "stdout",
     "output_type": "stream",
     "text": [
      "False\n",
      "True\n"
     ]
    }
   ],
   "source": [
    "# Question 1\n",
    "# Create a function that takes a number as an argument and returns True or False depending\n",
    "# on whether the number is symmetrical or not. A number is symmetrical when it is the same as\n",
    "# its reverse.\n",
    "\n",
    "def is_symmetrical(num:int):\n",
    "    data=str(num)\n",
    "    data_rev=data[::-1]\n",
    "    if(data_rev==data):\n",
    "        return True\n",
    "    else:\n",
    "        return False\n",
    "    \n",
    "print(is_symmetrical(7225))\n",
    "print(is_symmetrical(2552))"
   ]
  },
  {
   "cell_type": "code",
   "execution_count": 7,
   "metadata": {},
   "outputs": [
    {
     "data": {
      "text/plain": [
       "24"
      ]
     },
     "execution_count": 7,
     "metadata": {},
     "output_type": "execute_result"
    }
   ],
   "source": [
    "# Question 2\n",
    "# Given a string of numbers separated by a comma and space, return the product of the\n",
    "# numbers.\n",
    "def multiply_nums(data:str):\n",
    "    data_list=data.split(\", \")\n",
    "    answer=1\n",
    "    for num in data_list:\n",
    "        answer*=int(num)\n",
    "    return answer\n",
    "\n",
    "#testing\n",
    "multiply_nums(\"2, 3, 4\")"
   ]
  },
  {
   "cell_type": "code",
   "execution_count": 3,
   "metadata": {},
   "outputs": [
    {
     "data": {
      "text/plain": [
       "811181"
      ]
     },
     "execution_count": 3,
     "metadata": {},
     "output_type": "execute_result"
    }
   ],
   "source": [
    "# Question 3\n",
    "# Create a function that squares every digit of a number.\n",
    "def square_digits(num:int):\n",
    "    temp=1\n",
    "    result=list()\n",
    "    num_str=str(num)\n",
    "    for i in range(len(num_str)):\n",
    "        temp=int(num_str[i])**2\n",
    "        result.append(temp)\n",
    "    result=map(str,result)\n",
    "    result=int(\"\".join(result))\n",
    "    return result\n",
    "\n",
    "#testing\n",
    "square_digits(9119)"
   ]
  },
  {
   "cell_type": "code",
   "execution_count": 4,
   "metadata": {},
   "outputs": [
    {
     "data": {
      "text/plain": [
       "3.0"
      ]
     },
     "execution_count": 4,
     "metadata": {},
     "output_type": "execute_result"
    }
   ],
   "source": [
    "# Question 5\n",
    "# Create a function that returns the mean of all digits.\n",
    "def mean(num:int):\n",
    "    res=1\n",
    "    data_str=str(num)\n",
    "    total=0\n",
    "    for i in range(len(data_str)):\n",
    "        total+=int(data_str[i])\n",
    "    res=total/len(data_str)\n",
    "    return res\n",
    "\n",
    "mean(12345)"
   ]
  },
  {
   "cell_type": "code",
   "execution_count": null,
   "metadata": {},
   "outputs": [],
   "source": []
  }
 ],
 "metadata": {
  "kernelspec": {
   "display_name": "base",
   "language": "python",
   "name": "python3"
  },
  "language_info": {
   "codemirror_mode": {
    "name": "ipython",
    "version": 3
   },
   "file_extension": ".py",
   "mimetype": "text/x-python",
   "name": "python",
   "nbconvert_exporter": "python",
   "pygments_lexer": "ipython3",
   "version": "3.9.7"
  },
  "orig_nbformat": 4,
  "vscode": {
   "interpreter": {
    "hash": "2db0b17aa99747902bf31a3be56921a7b088ca8acbbc2c2d7a1e20d80247349f"
   }
  }
 },
 "nbformat": 4,
 "nbformat_minor": 2
}
