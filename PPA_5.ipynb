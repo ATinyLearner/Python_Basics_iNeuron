{
 "cells": [
  {
   "cell_type": "markdown",
   "metadata": {},
   "source": [
    "1. Write a Python Program to Find LCM?\n",
    "2. Write a Python Program to Find HCF?\n",
    "3. Write a Python Program to Convert Decimal to Binary, Octal and Hexadecimal?\n",
    "4. Write a Python Program To Find ASCII value of a character?\n",
    "5. Write a Python Program to Make a Simple Calculator with 4 basic mathematical operations?"
   ]
  },
  {
   "cell_type": "code",
   "execution_count": 3,
   "metadata": {},
   "outputs": [
    {
     "name": "stdout",
     "output_type": "stream",
     "text": [
      "3\n",
      "108.0\n"
     ]
    }
   ],
   "source": [
    "# 1 & 2\n",
    "# lcm(a,b)=(a/hcf(a,b))*b , where a!=0\n",
    "# hence let's create hcf function from scratch\n",
    "def hcf(a,b):\n",
    "    if a==0:\n",
    "        return b\n",
    "    return hcf(b%a,a)\n",
    "# now its time for lcm\n",
    "def lcm(a,b):\n",
    "    return (a/hcf(a,b))*b\n",
    "\n",
    "#testing hcf\n",
    "print(hcf(12,9))  # 3\n",
    "# now testing this\n",
    "print(lcm(12,27)) # 108"
   ]
  },
  {
   "cell_type": "code",
   "execution_count": 13,
   "metadata": {},
   "outputs": [
    {
     "name": "stdout",
     "output_type": "stream",
     "text": [
      "110\n",
      "12\n",
      "6e\n"
     ]
    }
   ],
   "source": [
    "# 3 decimal to binary,octal,hexadecimal\n",
    "def dec_bin(num:int):\n",
    "    return \"{0:b}\".format(num)\n",
    "\n",
    "# testing\n",
    "print(dec_bin(6)) # 110\n",
    "\n",
    "def dec_oct(num:int):\n",
    "    return \"{0:o}\".format(num)\n",
    "\n",
    "# testing\n",
    "print(dec_oct(10)) # 12\n",
    "\n",
    "def dec_hex(num:int):\n",
    "    return \"{0:x}\".format(num)\n",
    "\n",
    "# testing\n",
    "print(dec_hex(110)) # 6e\n"
   ]
  },
  {
   "cell_type": "code",
   "execution_count": 21,
   "metadata": {},
   "outputs": [
    {
     "data": {
      "text/plain": [
       "107"
      ]
     },
     "execution_count": 21,
     "metadata": {},
     "output_type": "execute_result"
    }
   ],
   "source": [
    "# 4 getting ascii value for a character\n",
    "# have to use ord() to convert character to ascii\n",
    "\n",
    "def char_ascii(val):\n",
    "    return ord(val)\n",
    "\n",
    "# testing\n",
    "char_ascii('k') # 107"
   ]
  },
  {
   "cell_type": "code",
   "execution_count": 27,
   "metadata": {},
   "outputs": [
    {
     "name": "stdout",
     "output_type": "stream",
     "text": [
      "14 + 6 = 20\n",
      "14 - 6 = 8\n",
      "14 * 6 = 84\n",
      "14 / 6 = 2.33\n"
     ]
    }
   ],
   "source": [
    "# 5 calculator for 4 basic operation\n",
    "def calculate(a:int,b:int,sign:str): # allowed sign +,-,/,*\n",
    "    signs=[\"+\",\"-\",\"*\",\"/\"]\n",
    "    if sign in signs:\n",
    "        if(sign==signs[0]):\n",
    "            print(f\"{a} {signs[0]} {b} = {a+b}\")\n",
    "        elif(sign==signs[1]):\n",
    "            print(f\"{a} {signs[1]} {b} = {a-b}\")\n",
    "        elif(sign==signs[2]):\n",
    "            print(f\"{a} {signs[2]} {b} = {a*b}\")\n",
    "        elif(sign==signs[3]):\n",
    "            if(b!=0):\n",
    "                print(f\"{a} {signs[3]} {b} = {round(a/b,2)}\")\n",
    "            else:\n",
    "                print(\"Denominator can not be zero!\")\n",
    "    else:\n",
    "        print(\"Wrong Sign used!\")\n",
    "# testing\n",
    "calculate(14,6,\"+\")\n",
    "calculate(14,6,\"-\")\n",
    "calculate(14,6,\"*\")\n",
    "calculate(14,6,\"/\")"
   ]
  }
 ],
 "metadata": {
  "kernelspec": {
   "display_name": "Python 3.9.7 ('base')",
   "language": "python",
   "name": "python3"
  },
  "language_info": {
   "codemirror_mode": {
    "name": "ipython",
    "version": 3
   },
   "file_extension": ".py",
   "mimetype": "text/x-python",
   "name": "python",
   "nbconvert_exporter": "python",
   "pygments_lexer": "ipython3",
   "version": "3.9.7"
  },
  "orig_nbformat": 4,
  "vscode": {
   "interpreter": {
    "hash": "2db0b17aa99747902bf31a3be56921a7b088ca8acbbc2c2d7a1e20d80247349f"
   }
  }
 },
 "nbformat": 4,
 "nbformat_minor": 2
}
