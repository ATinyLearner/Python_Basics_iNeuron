{
 "cells": [
  {
   "cell_type": "markdown",
   "metadata": {},
   "source": [
    "1. Is the Python Standard Library included with PyInputPlus?\n",
    "2. Why is PyInputPlus commonly imported with import pyinputplus as pypi?\n",
    "3. How do you distinguish between inputInt() and inputFloat()?\n",
    "4. Using PyInputPlus, how do you ensure that the user enters a whole number between 0 and 99?\n",
    "5. What is transferred to the keyword arguments allowRegexes and blockRegexes?\n",
    "6. If a blank input is entered three times, what does inputStr(limit=3) do?\n",
    "7. If blank input is entered three times, what does inputStr(limit=3, default='hello') do?\n",
    "#### Answers"
   ]
  },
  {
   "cell_type": "markdown",
   "metadata": {},
   "source": [
    "###### 1. No, pyinputplus is not included in Python Standard Library.\n",
    "###### 2. Because it is a different module and not available inside python standard library. Hence import is required for pyinputplus.\n",
    "###### 3. inputInt() does not take input other than integer and inputFloat() takes both float and integer numbers as input.\n",
    "###### 4.We can do that by using the following:\n",
    "###### result = pyip.inputNum(min=0, max=99)\n",
    "###### 5.There is no allowRegexs and blockRegexes in pyinputplus. There are whitelistRegexes and blacklistRegexes.whitelistRegexes helps to pass a sequence of regex strings validation of input explicitly. blacklistRegexes actually does the opposite of it.\n",
    "###### 7.It will return Blank values are not allowed for 3 times then it will return the default value i.e 'hello'.\n",
    "###### 6.It will return Blank values are not allowed for 3 times after that we shall get a Validation Exception."
   ]
  }
 ],
 "metadata": {
  "kernelspec": {
   "display_name": "Python 3.9.7 ('base')",
   "language": "python",
   "name": "python3"
  },
  "language_info": {
   "codemirror_mode": {
    "name": "ipython",
    "version": 3
   },
   "file_extension": ".py",
   "mimetype": "text/x-python",
   "name": "python",
   "nbconvert_exporter": "python",
   "pygments_lexer": "ipython3",
   "version": "3.9.7"
  },
  "orig_nbformat": 4,
  "vscode": {
   "interpreter": {
    "hash": "2db0b17aa99747902bf31a3be56921a7b088ca8acbbc2c2d7a1e20d80247349f"
   }
  }
 },
 "nbformat": 4,
 "nbformat_minor": 2
}
