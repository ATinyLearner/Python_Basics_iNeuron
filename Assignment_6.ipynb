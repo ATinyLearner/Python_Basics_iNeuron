{
 "cells": [
  {
   "cell_type": "code",
   "execution_count": null,
   "metadata": {},
   "outputs": [],
   "source": [
    "1. What are escape characters, and how do you use them?\n",
    "Ans: \n",
    "\\'\n",
    "\\\\'\n",
    "\\\\\n",
    "\\n\n",
    "\\r\n",
    "\\t\n",
    "\\b\n",
    "\\f\n",
    "\\v\n",
    "\n",
    "2. What do the escape characters n and t stand for?\n",
    "Ans: n stands for new line\n",
    "t stands for horizontal tab space \n",
    "3. What is the way to include backslash characters in a string?\n",
    "Ans: using another backslash infront of it.\n",
    "4. The string \"Howl's Moving Castle\" is a correct value. Why isn't the single quote character in the word Howl's not escaped a problem?\n",
    "Ans: yes to escape that we have to use a backslash. \n",
    "5. How do you write a string of newlines if you don't want to use the n character?\n",
    "Ans: we can use print() for each line if we dont want to use \\n\n",
    "6. What are the values of the given expressions?\n",
    "'Hello, world!'[1]\n",
    "'Hello, world!'[0:5]\n",
    "'Hello, world!'[:5]\n",
    "'Hello, world!'[3:]\n",
    "Ans:  e\n",
    "Hello\n",
    "Hello\n",
    "lo, world\n",
    "7. What are the values of the following expressions?\n",
    "'Hello'.upper()\n",
    "'Hello'.upper().isupper()\n",
    "'Hello'.upper().lower()\n",
    "Ans: ‘HELLO’\n",
    "True\n",
    "hello\n",
    "8. What are the values of the following expressions?\n",
    "'Remember, remember, the fifth of July.'.split()\n",
    "'-'.join('There can only one.'.split())\n",
    "Ans: \n",
    "['Remember,', 'remember,', 'the', 'fifth', 'of', 'July.']\n",
    "'There-can-only-one.'\n",
    "9. What are the methods for right-justifying, left-justifying, and centering a string?\n",
    "Ans: we can use format function to format string and can use < for left-justifying, > for right-justifying and ^ for centering a string.\n",
    "10. What is the best way to remove whitespace characters from the start or end?\n",
    "Ans: lstrip() can be used to remove whitespace from start and rstrip() can be used to remove end whitespace from string. Using strip() will remove both start and end whitespace together. "
   ]
  }
 ],
 "metadata": {
  "language_info": {
   "name": "python"
  },
  "orig_nbformat": 4
 },
 "nbformat": 4,
 "nbformat_minor": 2
}
