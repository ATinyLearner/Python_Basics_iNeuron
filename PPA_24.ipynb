{
 "cells": [
  {
   "cell_type": "code",
   "execution_count": 2,
   "metadata": {},
   "outputs": [
    {
     "data": {
      "text/plain": [
       "[1, 2, 3, 40, 5, 6, 7, 80, 9, 10]"
      ]
     },
     "execution_count": 2,
     "metadata": {},
     "output_type": "execute_result"
    }
   ],
   "source": [
    "# Question1\n",
    "# Create a function that takes an integer and returns a list from 1 to the given number, where:\n",
    "# 1. If the number can be divided evenly by 4, amplify it by 10 (i.e. return 10 times the\n",
    "# number).\n",
    "# 2. If the number cannot be divided evenly by 4, simply return the number.\n",
    "def amplify(val:int):\n",
    "    if(val>=1):\n",
    "        res=[]\n",
    "        for i in range(1,val+1):\n",
    "            if(i%4==0):\n",
    "                res.append(i*10)\n",
    "            else:\n",
    "                res.append(i)\n",
    "        return res\n",
    "    else:\n",
    "        return None\n",
    "\n",
    "#testing\n",
    "amplify(10)"
   ]
  },
  {
   "cell_type": "code",
   "execution_count": 1,
   "metadata": {},
   "outputs": [
    {
     "data": {
      "text/plain": [
       "7"
      ]
     },
     "execution_count": 1,
     "metadata": {},
     "output_type": "execute_result"
    }
   ],
   "source": [
    "# Question2\n",
    "# Create a function that takes a list of numbers and return the number that's unique.\n",
    "def unique(data:list):\n",
    "    for num in data:\n",
    "        if(data.count(num)==1):\n",
    "            return num\n",
    "        else:\n",
    "            continue\n",
    "\n",
    "#testing\n",
    "unique([3, 3, 3, 7, 3, 3])"
   ]
  },
  {
   "cell_type": "code",
   "execution_count": 4,
   "metadata": {},
   "outputs": [
    {
     "name": "stdout",
     "output_type": "stream",
     "text": [
      "380.0\n",
      "69.0\n"
     ]
    }
   ],
   "source": [
    "# Question3\n",
    "# Your task is to create a Circle constructor that creates a circle with a radius provided by an\n",
    "# argument. The circles constructed must have two getters getArea() (PIr^2) and\n",
    "# getPerimeter() (2PI*r) which give both respective areas and perimeter (circumference).\n",
    "# \n",
    "# For help with this class, I have provided you with a Rectangle constructor which you can use\n",
    "# as a base example.\n",
    "import math\n",
    "class Circle:\n",
    "    def __init__(self,radius=1):\n",
    "        self.radius=radius\n",
    "    \n",
    "    def getArea(self):\n",
    "        return round((math.pi*(self.radius**2)),0)\n",
    "    \n",
    "    def getPerimeter(self):\n",
    "        return round((2*math.pi*self.radius),0)\n",
    "\n",
    "#testing\n",
    "test_circle=Circle(radius=11)\n",
    "print(test_circle.getArea())\n",
    "print(test_circle.getPerimeter())"
   ]
  },
  {
   "cell_type": "code",
   "execution_count": 5,
   "metadata": {},
   "outputs": [
    {
     "data": {
      "text/plain": [
       "['Raphael', 'Leonardo', 'Donatello', 'Michelangelo']"
      ]
     },
     "execution_count": 5,
     "metadata": {},
     "output_type": "execute_result"
    }
   ],
   "source": [
    "# Question4\n",
    "# Create a function that takes a list of strings and return a list, sorted from shortest to longest.\n",
    "def sort_by_length(data:list):\n",
    "    res=[]\n",
    "    sor_lengths=[len(ele) for ele in data]\n",
    "    sor_lengths=sorted(sor_lengths)\n",
    "    for length in sor_lengths:\n",
    "        for word in data:\n",
    "            if(len(word)==length):\n",
    "                res.append(word)\n",
    "            else:\n",
    "                continue\n",
    "    return res\n",
    "\n",
    "#testing\n",
    "sort_by_length([\"Leonardo\", \"Michelangelo\", \"Raphael\", \"Donatello\"])"
   ]
  },
  {
   "cell_type": "code",
   "execution_count": 9,
   "metadata": {},
   "outputs": [
    {
     "name": "stdout",
     "output_type": "stream",
     "text": [
      "True\n",
      "False\n"
     ]
    }
   ],
   "source": [
    "# Question5\n",
    "# Create a function that validates whether three given integers form a Pythagorean triplet. The\n",
    "# sum of the squares of the two smallest integers must equal the square of the largest number to\n",
    "# be validated.\n",
    "def is_triplet(num1,num2,num3):\n",
    "    data_list=[num1,num2,num3]\n",
    "    biggest=max(data_list)\n",
    "    data_list.pop(data_list.index(biggest))\n",
    "    math_inf=(data_list[0]**2)+(data_list[1]**2)\n",
    "    if(math_inf==(biggest)**2):\n",
    "        return True\n",
    "    else:\n",
    "        return False\n",
    "\n",
    "#testing\n",
    "print(is_triplet(3,4,5))\n",
    "print(is_triplet(1,2,3))"
   ]
  }
 ],
 "metadata": {
  "kernelspec": {
   "display_name": "base",
   "language": "python",
   "name": "python3"
  },
  "language_info": {
   "codemirror_mode": {
    "name": "ipython",
    "version": 3
   },
   "file_extension": ".py",
   "mimetype": "text/x-python",
   "name": "python",
   "nbconvert_exporter": "python",
   "pygments_lexer": "ipython3",
   "version": "3.9.7"
  },
  "orig_nbformat": 4,
  "vscode": {
   "interpreter": {
    "hash": "2db0b17aa99747902bf31a3be56921a7b088ca8acbbc2c2d7a1e20d80247349f"
   }
  }
 },
 "nbformat": 4,
 "nbformat_minor": 2
}
