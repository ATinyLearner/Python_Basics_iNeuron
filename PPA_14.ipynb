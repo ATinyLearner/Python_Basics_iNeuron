{
 "cells": [
  {
   "attachments": {},
   "cell_type": "markdown",
   "metadata": {},
   "source": [
    "###### Question 1:\n",
    "###### Define a class with a generator which can iterate the numbers, which are divisible by\n",
    "###### 7, between a given range 0 and n.\n",
    "###### \n",
    "###### Question 2:\n",
    "###### Write a program to compute the frequency of the words from the input. The output\n",
    "###### should output after sorting the key alphanumerically.\n",
    "###### Suppose the following input is supplied to the program:\n",
    "###### New to Python or choosing between Python 2 and Python 3? Read Python 2 or\n",
    "###### Python 3.\n",
    "###### Then, the output should be:\n",
    "###### 2:2\n",
    "###### 3.:1\n",
    "###### 3?:1\n",
    "###### New:1\n",
    "###### Python:5\n",
    "###### Read:1\n",
    "###### and:1\n",
    "###### between:1\n",
    "###### choosing:1\n",
    "###### or:2\n",
    "###### to:1\n",
    "###### \n",
    "###### Question 3:\n",
    "###### \n",
    "###### Define a class Person and its two child classes: Male and Female. All classes have a\n",
    "###### method &quot;getGender&quot; which can print &quot;Male&quot; for Male class and &quot;Female&quot; for Female\n",
    "###### class.\n",
    "###### \n",
    "###### Question 4:\n",
    "###### Please write a program to generate all sentences where subject is in [&quot;I&quot;, &quot;You&quot;] and\n",
    "###### verb is in [&quot;Play&quot;, &quot;Love&quot;] and the object is in [&quot;Hockey&quot;,&quot;Football&quot;].\n",
    "###### \n",
    "###### Question 5:\n",
    "###### Please write a program to compress and decompress the string &quot;hello world!hello\n",
    "###### world!hello world!hello world!&quot;.\n",
    "###### \n",
    "###### Question 6:\n",
    "###### Please write a binary search function which searches an item in a sorted list. The\n",
    "###### function should return the index of element to be searched in the list."
   ]
  },
  {
   "cell_type": "code",
   "execution_count": 4,
   "metadata": {},
   "outputs": [
    {
     "name": "stdout",
     "output_type": "stream",
     "text": [
      "0\n",
      "7\n",
      "14\n",
      "21\n"
     ]
    }
   ],
   "source": [
    "# Question 1:\n",
    "# Define a class with a generator which can iterate the numbers, which are divisible by\n",
    "# 7, between a given range 0 and n.\n",
    "\n",
    "class Test:\n",
    "    def __init__(self,start:int,end:int):\n",
    "        self.start=start\n",
    "        self.end=end\n",
    "    \n",
    "    def div_7(self):\n",
    "        n=self.start\n",
    "        while n<=self.end+1:\n",
    "            if(n%7==0):\n",
    "                yield n\n",
    "            n+=1\n",
    "#testing\n",
    "test=Test(0,20)\n",
    "vals=test.div_7()\n",
    "\n",
    "for i in vals:\n",
    "    print(i)\n"
   ]
  },
  {
   "cell_type": "code",
   "execution_count": 5,
   "metadata": {},
   "outputs": [
    {
     "data": {
      "text/plain": [
       "OrderedDict([('2', 2),\n",
       "             ('3.', 1),\n",
       "             ('3?', 1),\n",
       "             ('New', 1),\n",
       "             ('Python', 5),\n",
       "             ('Read', 1),\n",
       "             ('and', 1),\n",
       "             ('between', 1),\n",
       "             ('choosing', 1),\n",
       "             ('or', 2),\n",
       "             ('to', 1)])"
      ]
     },
     "execution_count": 5,
     "metadata": {},
     "output_type": "execute_result"
    }
   ],
   "source": [
    "# Question 2:\n",
    "# Write a program to compute the frequency of the words from the input. The output\n",
    "# should output after sorting the key alphanumerically.\n",
    "# Suppose the following input is supplied to the program:\n",
    "# \"New to Python or choosing between Python 2 and Python 3? Read Python 2 or Python 3.\"\n",
    "# Then, the output should be:\n",
    "# 2:2\n",
    "# 3.:1\n",
    "# 3?:1\n",
    "# New:1\n",
    "# Python:5\n",
    "# Read:1\n",
    "# and:1\n",
    "# between:1\n",
    "# choosing:1\n",
    "# or:2\n",
    "# to:1\n",
    "from collections import OrderedDict\n",
    "\n",
    "def feq_word(data:str):\n",
    "    temp=data.split(\" \")\n",
    "    temp.sort()\n",
    "    temp_dict={}\n",
    "    for word in set(temp):\n",
    "        temp_dict[word]=temp.count(word)\n",
    "    final=OrderedDict(sorted(temp_dict.items()))\n",
    "    return final\n",
    "\n",
    "#testing\n",
    "feq_word(\"New to Python or choosing between Python 2 and Python 3? Read Python 2 or Python 3.\")\n"
   ]
  },
  {
   "cell_type": "code",
   "execution_count": 7,
   "metadata": {},
   "outputs": [],
   "source": [
    "# Question 3: \n",
    "# Define a class Person and its two child classes: Male and Female. All classes have a\n",
    "# method getGender which can print Male for Male class and Female for Female class.\n",
    "class Person:\n",
    "    def getGender(self):\n",
    "        print(\"Gender\")\n",
    "\n",
    "#child classes\n",
    "class Male(Person):\n",
    "    def getGender(self):\n",
    "        print(\"Male\")\n",
    "\n",
    "class Female(Person):\n",
    "    def getGender(self):\n",
    "        print(\"Female\")\n",
    "\n"
   ]
  },
  {
   "cell_type": "code",
   "execution_count": 3,
   "metadata": {},
   "outputs": [
    {
     "data": {
      "text/plain": [
       "'I Play Football'"
      ]
     },
     "execution_count": 3,
     "metadata": {},
     "output_type": "execute_result"
    }
   ],
   "source": [
    "# Question 4:\n",
    "# Please write a program to generate all sentences where subject is in [\"I\",\"You\"] and\n",
    "# verb is in [\"Play\",\"Love\"] and the object is in [\"Hockey\",\"Football\"].\n",
    "\n",
    "def gen_sentence(sub:str,verb:str,obj:str):\n",
    "    subs=[\"I\",\"You\"]\n",
    "    verbs=[\"Play\",\"Love\"]\n",
    "    objs=[\"Hockey\",\"Football\"]\n",
    "    sentences=[]\n",
    "    if sub in subs and verb in verbs and obj in objs:\n",
    "        temp=f\"{sub} {verb} {obj}\"\n",
    "        return temp\n",
    "\n",
    "#testing\n",
    "gen_sentence(\"I\",\"Play\",\"Football\")"
   ]
  },
  {
   "cell_type": "code",
   "execution_count": 10,
   "metadata": {},
   "outputs": [
    {
     "name": "stdout",
     "output_type": "stream",
     "text": [
      "b'x\\x9c\\xcbH\\xcd\\xc9\\xc9W(\\xcf/\\xcaIQ\\xcc \\x82\\r\\x00\\xbd[\\x11\\xf5'\n",
      "hello world!hello world!hello world!hello world!\n"
     ]
    }
   ],
   "source": [
    "# Question 5:\n",
    "# Please write a program to compress and decompress the string \"hello world!hello\n",
    "# world!hello world!hello world!\". \n",
    "import zlib\n",
    "\n",
    "def str_compress(data:str):\n",
    "    return zlib.compress(data.encode())\n",
    "\n",
    "def str_decompress(data:bytes):\n",
    "    return zlib.decompress(data).decode()\n",
    "\n",
    "\n",
    "#testing\n",
    "a=str_compress(\"hello world!hello world!hello world!hello world!\")\n",
    "print(a)\n",
    "b=str_decompress(a)\n",
    "print(b)\n",
    "\n"
   ]
  },
  {
   "cell_type": "code",
   "execution_count": 11,
   "metadata": {},
   "outputs": [
    {
     "data": {
      "text/plain": [
       "6"
      ]
     },
     "execution_count": 11,
     "metadata": {},
     "output_type": "execute_result"
    }
   ],
   "source": [
    "# Question 6:\n",
    "# Please write a binary search function which searches an item in a sorted list. The\n",
    "# function should return the index of element to be searched in the list.\n",
    "import math\n",
    "def bs(data:list,element,start,end):\n",
    "    if(data[start]>data[end]):\n",
    "        return 'Not Found'\n",
    "    mid=math.floor((start+end)/2)\n",
    "    if(data[mid]==element):\n",
    "        return mid\n",
    "    if(data[mid]>element):\n",
    "        return bs(data=data,element=element,start=start,end=mid-1)\n",
    "    if(data[mid]<element):\n",
    "        return bs(data=data,element=element,start=mid+1,end=end)\n",
    "\n",
    "#testing\n",
    "sorted_lst=[1,2,3,4,5,9,20,25,36,87,110]\n",
    "\n",
    "bs(sorted_lst,20,0,len(sorted_lst)-1)"
   ]
  }
 ],
 "metadata": {
  "kernelspec": {
   "display_name": "base",
   "language": "python",
   "name": "python3"
  },
  "language_info": {
   "codemirror_mode": {
    "name": "ipython",
    "version": 3
   },
   "file_extension": ".py",
   "mimetype": "text/x-python",
   "name": "python",
   "nbconvert_exporter": "python",
   "pygments_lexer": "ipython3",
   "version": "3.9.7"
  },
  "orig_nbformat": 4,
  "vscode": {
   "interpreter": {
    "hash": "2db0b17aa99747902bf31a3be56921a7b088ca8acbbc2c2d7a1e20d80247349f"
   }
  }
 },
 "nbformat": 4,
 "nbformat_minor": 2
}
