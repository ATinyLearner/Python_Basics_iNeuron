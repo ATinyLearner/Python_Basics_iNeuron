{
 "cells": [
  {
   "cell_type": "markdown",
   "metadata": {},
   "source": [
    "###### 1. Write a Python Program to Find the Factorial of a Number?\n",
    "###### 2. Write a Python Program to Display the multiplication Table?\n",
    "###### 3. Write a Python Program to Print the Fibonacci sequence?\n",
    "###### 4. Write a Python Program to Check Armstrong Number?\n",
    "###### 5. Write a Python Program to Find Armstrong Number in an Interval?\n",
    "###### 6. Write a Python Program to Find the Sum of Natural Numbers?"
   ]
  },
  {
   "cell_type": "code",
   "execution_count": 5,
   "metadata": {},
   "outputs": [
    {
     "name": "stdout",
     "output_type": "stream",
     "text": [
      "Factorial of 5 is 120\n"
     ]
    }
   ],
   "source": [
    "# 1. Write a Python Program to Find the Factorial of a Number?\n",
    "# function to get factorial of a number\n",
    "def fact(number:int):\n",
    "    result=1\n",
    "    for i in range(2,number+1):\n",
    "        result*=i\n",
    "    return result\n",
    "number=int(input(\"Enter the number : \"))\n",
    "print(f\"Factorial of {number} is {fact(number)}\")    "
   ]
  },
  {
   "cell_type": "code",
   "execution_count": 9,
   "metadata": {},
   "outputs": [
    {
     "name": "stdout",
     "output_type": "stream",
     "text": [
      "Multiplication table for 99\n",
      "99 X 1 = 99\n",
      "99 X 2 = 198\n",
      "99 X 3 = 297\n",
      "99 X 4 = 396\n",
      "99 X 5 = 495\n",
      "99 X 6 = 594\n",
      "99 X 7 = 693\n",
      "99 X 8 = 792\n",
      "99 X 9 = 891\n",
      "99 X 10 = 990\n"
     ]
    }
   ],
   "source": [
    "# 2. Write a Python Program to Display the multiplication Table?\n",
    "# function to get mul table\n",
    "def mul_table(number:int):\n",
    "    print(f\"Multiplication table for {number}\")\n",
    "    for i in range(1,11):\n",
    "        print(f\"{number} X {i} = {number*i}\")\n",
    "mul_table(99)"
   ]
  },
  {
   "cell_type": "code",
   "execution_count": 10,
   "metadata": {},
   "outputs": [
    {
     "name": "stdout",
     "output_type": "stream",
     "text": [
      ":Fibonacci Series till 20:\n",
      "[0, 1, 1, 2, 3, 5, 8, 13]\n"
     ]
    }
   ],
   "source": [
    "# 3. Write a Python Program to Print the Fibonacci sequence?\n",
    "def fib_series(end_num:int):\n",
    "    print(f\":Fibonacci Series till {end_num}:\")\n",
    "    f_series=[0,1]\n",
    "    run=True\n",
    "    f0=0\n",
    "    f1=1\n",
    "    if end_num in [0,1]:\n",
    "        print(f_series)\n",
    "    else:\n",
    "        while(run):\n",
    "            f2=f0+f1\n",
    "            if(f2<=end_num):\n",
    "                f_series.append(f2)\n",
    "                f0=f1\n",
    "                f1=f2\n",
    "            else:\n",
    "                run=False\n",
    "        print(f_series)\n",
    "\n",
    "fib_series(20)\n"
   ]
  },
  {
   "cell_type": "code",
   "execution_count": 17,
   "metadata": {},
   "outputs": [
    {
     "data": {
      "text/plain": [
       "True"
      ]
     },
     "execution_count": 17,
     "metadata": {},
     "output_type": "execute_result"
    }
   ],
   "source": [
    "# 4. Write a Python Program to Check Armstrong Number?\n",
    "def armstrong_check(number:int):\n",
    "    data=str(number)\n",
    "    total=0\n",
    "    for i in data:\n",
    "        total+=(int(i)**3)\n",
    "    if(total==int(number)):\n",
    "        return True\n",
    "    else:\n",
    "        return False\n",
    "armstrong_check(407) "
   ]
  },
  {
   "cell_type": "code",
   "execution_count": 18,
   "metadata": {},
   "outputs": [
    {
     "name": "stdout",
     "output_type": "stream",
     "text": [
      "Armstrong Numbers between 153 and 410 : [153, 370, 371, 407]\n"
     ]
    }
   ],
   "source": [
    "# 5. Write a Python Program to Find Armstrong Number in an Interval?\n",
    "# function to get all armstrong number in an interval\n",
    "def arm_interval(start:int,end:int):\n",
    "    a_series=[]\n",
    "    for i in range(start,end+1):\n",
    "        if(armstrong_check(i)):\n",
    "            a_series.append(i)\n",
    "    print(f\"Armstrong Numbers between {start} and {end} : {a_series}\")\n",
    "\n",
    "arm_interval(153,410)"
   ]
  },
  {
   "cell_type": "code",
   "execution_count": 21,
   "metadata": {},
   "outputs": [
    {
     "name": "stdout",
     "output_type": "stream",
     "text": [
      "Sum of all natural numbers between 1 and 3 : 6\n"
     ]
    }
   ],
   "source": [
    "# 6. Write a Python Program to Find the Sum of Natural Numbers?\n",
    "def sum_nat(start:int,end:int):\n",
    "    total=0\n",
    "    for i in range(start,end+1):\n",
    "        total+=i\n",
    "    print(f\"Sum of all natural numbers between {start} and {end} : {total}\")\n",
    "sum_nat(1,3)"
   ]
  }
 ],
 "metadata": {
  "kernelspec": {
   "display_name": "Python 3.9.7 ('base')",
   "language": "python",
   "name": "python3"
  },
  "language_info": {
   "codemirror_mode": {
    "name": "ipython",
    "version": 3
   },
   "file_extension": ".py",
   "mimetype": "text/x-python",
   "name": "python",
   "nbconvert_exporter": "python",
   "pygments_lexer": "ipython3",
   "version": "3.9.7"
  },
  "orig_nbformat": 4,
  "vscode": {
   "interpreter": {
    "hash": "2db0b17aa99747902bf31a3be56921a7b088ca8acbbc2c2d7a1e20d80247349f"
   }
  }
 },
 "nbformat": 4,
 "nbformat_minor": 2
}
