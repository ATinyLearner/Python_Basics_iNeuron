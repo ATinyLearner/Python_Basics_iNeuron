{
 "cells": [
  {
   "cell_type": "code",
   "execution_count": 1,
   "metadata": {},
   "outputs": [
    {
     "data": {
      "text/plain": [
       "'SSttrriinngg'"
      ]
     },
     "execution_count": 1,
     "metadata": {},
     "output_type": "execute_result"
    }
   ],
   "source": [
    "# Question1\n",
    "# Create a function that takes a string and returns a string in which each character is repeated\n",
    "# once.\n",
    "def double_char(data:str):\n",
    "    temp=[]\n",
    "    for i in range(len(data)):\n",
    "        temp.append(data[i])\n",
    "        temp.append(data[i])\n",
    "    temp=\"\".join(temp)\n",
    "    return temp\n",
    "\n",
    "#testing\n",
    "double_char(\"String\")\n"
   ]
  },
  {
   "cell_type": "code",
   "execution_count": 18,
   "metadata": {},
   "outputs": [
    {
     "name": "stdout",
     "output_type": "stream",
     "text": [
      "boolean expected\n",
      "False\n"
     ]
    }
   ],
   "source": [
    "# Question2\n",
    "# Create a function that reverses a boolean value and returns the string &quot;boolean expected&quot;\n",
    "# if another variable type is given.\n",
    "\n",
    "def reverse(data):\n",
    "    values = [True, False]\n",
    "    if(data not in values) or (type(data)!=bool):\n",
    "        return \"boolean expected\"\n",
    "    else:\n",
    "        if(data == True):\n",
    "            return False\n",
    "        else:\n",
    "            return True\n",
    "        \n",
    "\n",
    "#testing\n",
    "print(reverse(0))\n",
    "print(reverse(True))"
   ]
  },
  {
   "cell_type": "code",
   "execution_count": 21,
   "metadata": {},
   "outputs": [
    {
     "data": {
      "text/plain": [
       "1048.576"
      ]
     },
     "execution_count": 21,
     "metadata": {},
     "output_type": "execute_result"
    }
   ],
   "source": [
    "# Question3\n",
    "# Create a function that returns the thickness (in meters) of a piece of paper after folding it n\n",
    "# number of times. The paper starts off with a thickness of 0.5mm.\n",
    "def num_layers(num:int):\n",
    "    start=0.5\n",
    "    for i in range(num):\n",
    "        res=start*2\n",
    "        start=res\n",
    "    return res/1000\n",
    "\n",
    "#testing\n",
    "num_layers(21)"
   ]
  },
  {
   "cell_type": "code",
   "execution_count": 23,
   "metadata": {},
   "outputs": [
    {
     "data": {
      "text/plain": [
       "[1, 3, 7]"
      ]
     },
     "execution_count": 23,
     "metadata": {},
     "output_type": "execute_result"
    }
   ],
   "source": [
    "# Question4\n",
    "# Create a function that takes a single string as argument and returns an ordered list containing\n",
    "# the indices of all capital letters in the string.\n",
    "def index_of_caps(data:str):\n",
    "    res=[]\n",
    "    for i in range(len(data)):\n",
    "        if(data[i].isupper()):\n",
    "            res.append(i)\n",
    "    return res\n",
    "#testing\n",
    "index_of_caps(\"sUnStroKe\")"
   ]
  },
  {
   "cell_type": "code",
   "execution_count": 24,
   "metadata": {},
   "outputs": [
    {
     "data": {
      "text/plain": [
       "[2, 4, 6, 8, 10, 12, 14, 16, 18, 20]"
      ]
     },
     "execution_count": 24,
     "metadata": {},
     "output_type": "execute_result"
    }
   ],
   "source": [
    "# Question5\n",
    "# Using list comprehensions, create a function that finds all even numbers from 1 to the given\n",
    "# number.\n",
    "def find_even_nums(num:int):\n",
    "    nums=[i for i in range(2,num+1) if i%2==0]\n",
    "    return nums\n",
    "\n",
    "#testing\n",
    "find_even_nums(20)"
   ]
  }
 ],
 "metadata": {
  "kernelspec": {
   "display_name": "base",
   "language": "python",
   "name": "python3"
  },
  "language_info": {
   "codemirror_mode": {
    "name": "ipython",
    "version": 3
   },
   "file_extension": ".py",
   "mimetype": "text/x-python",
   "name": "python",
   "nbconvert_exporter": "python",
   "pygments_lexer": "ipython3",
   "version": "3.9.7"
  },
  "orig_nbformat": 4,
  "vscode": {
   "interpreter": {
    "hash": "2db0b17aa99747902bf31a3be56921a7b088ca8acbbc2c2d7a1e20d80247349f"
   }
  }
 },
 "nbformat": 4,
 "nbformat_minor": 2
}
