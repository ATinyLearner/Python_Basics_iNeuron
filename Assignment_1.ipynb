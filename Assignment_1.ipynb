{
 "cells": [
  {
   "cell_type": "markdown",
   "metadata": {},
   "source": [
    "##### 1. In the below elements which of them are values or an expression? eg:- values can be integer or string and expressions will be mathematical operators.\n",
    "##### * \t\tis an expression\n",
    "##### 'hello'  \t\tis  a value\n",
    "##### -87.8 \t\tis  a value\n",
    "##### - \t\tis an expression\n",
    "##### /  \t\tis an expression \n",
    "##### +\t\tis an expression\n",
    "##### 6  \t\tis  a value\n",
    "##### \n",
    "##### 2. What is the difference between string and variable?\n",
    "##### Variable is like a bucket. We can store values or information in it. String itself is a value.\n",
    "##### 3. Describe three different data types.\n",
    "##### int\n",
    "##### int is Integer. Integer includes all whole number. Example: 1,2,-5,8,-100 etc.\n",
    "##### str\n",
    "##### str is string . It is generally sequence of characters. Example: “Hello” , “India is best”.\n",
    "##### bool\n",
    "#####  In python bool is a datatype where only 2 types of data are there. They are True and False.\n",
    "##### 4. What is an expression made up of? What do all expressions do?\n",
    "##### Expressions are made up using  operators, literals and identifiers. Using all those expression we can get  some value as a result or we can solve mathematical problems in computer.\n",
    "##### 5. This assignment statements, like spam = 10. What is the difference between an expression and a statement?\n",
    "##### Expression: Expression is a combination or sequence of operators, literals , identifiers and function calls that always produces or returns a result .\n",
    "##### Statement: Each line of code which compiler can run is a statement.\n",
    "##### 6. After running the following code, what does the variable bacon contain?\n",
    "##### bacon = 22\n",
    "##### bacon + 1\n",
    "##### Ans: bacon=23\n",
    "##### \n",
    "##### 7. What should the values of the following two terms be?\n",
    "##### 'spam' + 'spamspam'\n",
    "##### 'spam' * 3\n",
    "##### Both will return “spamspamspam”\n",
    "##### 8. Why is eggs a valid variable name while 100 is invalid?\n",
    "##### In python variable name cannot start with integer it can be used after using string  as a variable name like eggs100 is valid but 100 or 100eggs is not valid.\n",
    "##### 9. What three functions can be used to get the integer, floating-point number, or string version of a value?\n",
    "##### int(value) will convert convertable value into integer.\n",
    "##### float() will convert convertable value into floating-point number.\n",
    "##### str() will convert convertable value into string.\n",
    "##### 10. Why does this expression cause an error? How can you fix it?\n",
    "##### 'I have eaten ' + 99 + ' burritos.'\n",
    "##### Here we are trying to append integer with string and they are different data type. Different data type can not be appended. "
   ]
  }
 ],
 "metadata": {
  "language_info": {
   "name": "python"
  },
  "orig_nbformat": 4
 },
 "nbformat": 4,
 "nbformat_minor": 2
}
