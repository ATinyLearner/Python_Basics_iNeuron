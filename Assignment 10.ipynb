{
 "cells": [
  {
   "cell_type": "markdown",
   "metadata": {},
   "source": [
    "1. How do you distinguish between shutil.copy() and shutil.copytree()?\n",
    "2. What function is used to rename files??\n",
    "3. What is the difference between the delete functions in the send2trash and shutil modules?\n",
    "4. ZipFile objects have a close() method just like File objects’ close() method. What ZipFile method is\n",
    "equivalent to File objects’ open() method?\n",
    "5. Create a programme that searches a folder tree for files with a certain file extension (such as .pdf\n",
    "or .jpg). Copy these files from whatever location they are in to a new folder."
   ]
  },
  {
   "cell_type": "markdown",
   "metadata": {},
   "source": [
    "# Answer\n",
    "1. copy() copies the file src to the file or directory dst. src and dst should be path-like objects or strings and it returns the path to the newly created file. copytree() recursively copy an entire directory tree rooted at src to a directory named dst and return the destination directory.\n",
    "2. os.rename() can be used to rename any file.\n",
    "3. send2trash sends given file to trash or recycle bin depending upon user operating system\n",
    "4.ZipFile objects have ZipFile() method we can use that method using mode=\"r\" and zip file name.\n"
   ]
  },
  {
   "cell_type": "code",
   "execution_count": 1,
   "metadata": {},
   "outputs": [],
   "source": [
    "#5. \n",
    "# creating a function to search a specific file extension in a folder or path\n",
    "import glob\n",
    "import os\n",
    "import shutil\n",
    "\n",
    "def find_copy(path:str,ext:str,dest:str):\n",
    "    os.chdir(path) #initiating the path\n",
    "    os.mkdir(dest) #making destination directory if not present\n",
    "    for file in glob.glob(f\"*.{ext}\"):\n",
    "        shutil.copy(file,dest) #copying the files with proper extension\n"
   ]
  }
 ],
 "metadata": {
  "kernelspec": {
   "display_name": "Python 3.9.7 ('base')",
   "language": "python",
   "name": "python3"
  },
  "language_info": {
   "codemirror_mode": {
    "name": "ipython",
    "version": 3
   },
   "file_extension": ".py",
   "mimetype": "text/x-python",
   "name": "python",
   "nbconvert_exporter": "python",
   "pygments_lexer": "ipython3",
   "version": "3.9.7"
  },
  "orig_nbformat": 4,
  "vscode": {
   "interpreter": {
    "hash": "2db0b17aa99747902bf31a3be56921a7b088ca8acbbc2c2d7a1e20d80247349f"
   }
  }
 },
 "nbformat": 4,
 "nbformat_minor": 2
}
