{
 "cells": [
  {
   "cell_type": "markdown",
   "metadata": {},
   "source": [
    "##### 1. What exactly is []?\n",
    "##### Ans: square braces indicates list in python.\n",
    "##### 2. In a list of values stored in a variable called spam, how would you assign the value 'hello' as the third value? (Assume [2, 4, 6, 8, 10] are in spam.)\n",
    "##### Ans:  spam.insert(2,”hello”)\n",
    "##### Let's pretend the spam includes the list ['a', 'b', 'c', 'd'] for the next three queries.\n",
    "##### 3. What is the value of spam[int(int('3' * 2) / 11)]?\n",
    "##### Ans: a\n",
    "##### 4. What is the value of spam[-1]?\n",
    "##### Ans: d\n",
    "##### 5. What is the value of spam[:2]?\n",
    "##### Ans: ‘a’,’b’\n",
    "##### Let's pretend bacon has the list [3.14, 'cat,' 11, 'cat,' True] for the next three questions.\n",
    "##### 6. What is the value of bacon.index('cat')?\n",
    "##### Ans: 1\n",
    "##### 7. How does bacon.append(99) change the look of the list value in bacon?\n",
    "##### Bacon=[3.14, 'cat,' 11, 'cat,' True’,99]\n",
    "##### 8. How does bacon.remove('cat') change the look of the list in bacon?\n",
    "##### Ans: [3.14,11, 'cat,' True]\n",
    "##### 9. What are the list concatenation and list replication operators?\n",
    "##### Ans: Let’s say we have 2 lists. They are list1 and list2\n",
    "##### We can concatenate them by using:\n",
    "##### List3=list1+list2\n",
    "##### Or we can use extend to concat two lists\n",
    "##### list1.extend(list2)\n",
    "##### To replicate list we can do following:\n",
    "##### list1.copy()\n",
    "##### 10. What is difference between the list methods append() and insert()?\n",
    "##### Ans: append() does not need index parameter and add a element just at the end of the list.\n",
    "##### Insert() need index as well as value. It inserts that value in the given index.\n",
    "##### 11. What are the two methods for removing items from a list?\n",
    "##### Ans: list.remove(element) will remove the element from the list\n",
    "##### del list will remove whole list\n",
    "##### del list[index] will remove the specific element from the list\n",
    "##### 12. Describe how list values and string values are identical.\n",
    "##### Ans: yes, as both can be sliced and accessed using index.\n",
    "##### 13. What's the difference between tuples and lists?\n",
    "##### Ans: list can be changed anytime. But  after assignment tuple cannot be changed. \n",
    "##### 14. How do you type a tuple value that only contains the integer 42?\n",
    "##### Ans: my_tpl=tuple([42])\n",
    "##### 15. How do you get a list value's tuple form? How do you get a tuple value's list form?\n",
    "##### Ans: \tlist1=[1,2,3,4,5,6]\n",
    "##### To get tuple version of it we use following:\n",
    "##### my_tpl=tuple(list1)\n",
    "##### To get the list value of tuple we use following:\n",
    "##### list(my_tpl)\n",
    "##### 16. Variables that \"contain\" list values are not necessarily lists themselves. Instead, what do they contain?\n",
    "##### Ans: characters\n",
    "##### 17. How do you distinguish between copy.copy() and copy.deepcopy()?\n",
    "##### Ans: copy() makes a shallow copy of data\n",
    "##### Whereas deepcopy() actually uses different address for assigning those data"
   ]
  }
 ],
 "metadata": {
  "language_info": {
   "name": "python"
  },
  "orig_nbformat": 4
 },
 "nbformat": 4,
 "nbformat_minor": 2
}
