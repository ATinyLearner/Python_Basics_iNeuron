{
 "cells": [
  {
   "cell_type": "markdown",
   "metadata": {},
   "source": [
    "1. Write a Python Program to Display Fibonacci Sequence Using Recursion?\n",
    "2. Write a Python Program to Find Factorial of Number Using Recursion?\n",
    "3. Write a Python Program to calculate your Body Mass Index?\n",
    "4. Write a Python Program to calculate the natural logarithm of any number?\n",
    "5. Write a Python Program for cube sum of first n natural numbers?"
   ]
  },
  {
   "cell_type": "code",
   "execution_count": 4,
   "metadata": {},
   "outputs": [
    {
     "name": "stdout",
     "output_type": "stream",
     "text": [
      "[0, 1, 1, 2, 3, 5, 8, 13, 21, 34]\n"
     ]
    }
   ],
   "source": [
    "# 1. Write a Python Program to Display Fibonacci Sequence Using Recursion?\n",
    "# term = 0,return list\n",
    "# c=a+b\n",
    "fibs=[]\n",
    "def fib_nums(term:int,fibs:list):\n",
    "    if term==0: # breaking condition for fibs_num\n",
    "        return fibs\n",
    "    else:\n",
    "        if(len(fibs)>0):\n",
    "            term-=1\n",
    "            indx_size=len(fibs)-1\n",
    "            temp=fibs[indx_size]+fibs[indx_size-1]\n",
    "            fibs.append(temp)\n",
    "        else:\n",
    "            term-=2\n",
    "            fibs.append(0)\n",
    "            fibs.append(1)\n",
    "        return fib_nums(term,fibs)\n",
    "fib_num=fib_nums(10,fibs)\n",
    "print(fib_num)    "
   ]
  },
  {
   "cell_type": "code",
   "execution_count": 16,
   "metadata": {},
   "outputs": [
    {
     "data": {
      "text/plain": [
       "24"
      ]
     },
     "execution_count": 16,
     "metadata": {},
     "output_type": "execute_result"
    }
   ],
   "source": [
    "# 2. Write a Python Program to Find Factorial of Number Using Recursion?\n",
    "def fact(n:int,val=1):\n",
    "    if(n==0): #breaking condition\n",
    "        return val\n",
    "    else:\n",
    "        val=n\n",
    "        return fact(n-1,val)*val\n",
    "\n",
    "#testing \n",
    "fact(4)"
   ]
  },
  {
   "cell_type": "code",
   "execution_count": 23,
   "metadata": {},
   "outputs": [
    {
     "data": {
      "text/plain": [
       "23.31"
      ]
     },
     "execution_count": 23,
     "metadata": {},
     "output_type": "execute_result"
    }
   ],
   "source": [
    "# 3. Write a Python Program to calculate your Body Mass Index?\n",
    "def bmi(weight:float,height:float):\n",
    "    return round(weight/(height**2),2)\n",
    "bmi(65,1.67)"
   ]
  },
  {
   "cell_type": "code",
   "execution_count": null,
   "metadata": {},
   "outputs": [],
   "source": [
    "# 4. Write a Python Program to calculate the natural logarithm of any number?\n",
    "import math\n",
    "def nat_log(val:int):\n",
    "    return math.log(val)"
   ]
  },
  {
   "cell_type": "code",
   "execution_count": 2,
   "metadata": {},
   "outputs": [
    {
     "data": {
      "text/plain": [
       "36"
      ]
     },
     "execution_count": 2,
     "metadata": {},
     "output_type": "execute_result"
    }
   ],
   "source": [
    "# 5. Write a Python Program for cube sum of first n natural numbers?\n",
    "def cub_sum(terms:int):\n",
    "    if terms==1:\n",
    "        return 1\n",
    "    else:\n",
    "        return cub_sum(terms-1)+(terms**3)\n",
    "\n",
    "cub_sum(3)"
   ]
  }
 ],
 "metadata": {
  "kernelspec": {
   "display_name": "Python 3.9.7 ('base')",
   "language": "python",
   "name": "python3"
  },
  "language_info": {
   "codemirror_mode": {
    "name": "ipython",
    "version": 3
   },
   "file_extension": ".py",
   "mimetype": "text/x-python",
   "name": "python",
   "nbconvert_exporter": "python",
   "pygments_lexer": "ipython3",
   "version": "3.9.7"
  },
  "orig_nbformat": 4,
  "vscode": {
   "interpreter": {
    "hash": "2db0b17aa99747902bf31a3be56921a7b088ca8acbbc2c2d7a1e20d80247349f"
   }
  }
 },
 "nbformat": 4,
 "nbformat_minor": 2
}
