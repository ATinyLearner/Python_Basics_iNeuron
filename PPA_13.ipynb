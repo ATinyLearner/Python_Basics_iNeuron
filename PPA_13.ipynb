{
 "cells": [
  {
   "attachments": {},
   "cell_type": "markdown",
   "metadata": {},
   "source": [
    "###### Question 1:\n",
    "###### Write a program that calculates and prints the value according to the given formula:\n",
    "###### Q = Square root of [(2 * C * D)/H]\n",
    "###### Following are the fixed values of C and H:\n",
    "###### C is 50. H is 30.\n",
    "###### D is the variable whose values should be input to your program in a comma-separated\n",
    "###### sequence.\n",
    "###### Example\n",
    "###### Let us assume the following comma separated input sequence is given to the program:\n",
    "###### 100,150,180\n",
    "###### The output of the program should be:\n",
    "###### 18,22,24\n",
    "###### \n",
    "###### Question 2:\n",
    "###### Write a program which takes 2 digits, X,Y as input and generates a 2-dimensional array. The\n",
    "###### element value in the i-th row and j-th column of the array should be i*j.\n",
    "###### Note: i=0,1.., X-1; j=0,1,¡Y-1.\n",
    "###### Example\n",
    "###### Suppose the following inputs are given to the program:\n",
    "###### 3,5\n",
    "###### Then, the output of the program should be:\n",
    "###### [[0, 0, 0, 0, 0], [0, 1, 2, 3, 4], [0, 2, 4, 6, 8]]\n",
    "###### \n",
    "###### Question 3:\n",
    "###### Write a program that accepts a comma separated sequence of words as input and prints the\n",
    "###### words in a comma-separated sequence after sorting them alphabetically.\n",
    "###### Suppose the following input is supplied to the program:\n",
    "###### without,hello,bag,world\n",
    "###### Then, the output should be:\n",
    "###### bag,hello,without,world\n",
    "###### \n",
    "###### Question 4:\n",
    "###### Write a program that accepts a sequence of whitespace separated words as input and prints\n",
    "###### the words after removing all duplicate words and sorting them alphanumerically.\n",
    "###### Suppose the following input is supplied to the program:\n",
    "###### hello world and practice makes perfect and hello world again\n",
    "###### Then, the output should be:\n",
    "###### again and hello makes perfect practice world\n",
    "###### \n",
    "###### Question 5:\n",
    "###### Write a program that accepts a sentence and calculate the number of letters and digits.\n",
    "###### Suppose the following input is supplied to the program:\n",
    "###### hello world! 123\n",
    "###### Then, the output should be:\n",
    "###### LETTERS 10\n",
    "###### DIGITS 3\n",
    "###### \n",
    "###### Question 6:\n",
    "###### A website requires the users to input username and password to register. Write a program to\n",
    "###### check the validity of password input by users.\n",
    "###### Following are the criteria for checking the password:\n",
    "###### 1. At least 1 letter between [a-z]\n",
    "###### 2. At least 1 number between [0-9]\n",
    "###### 1. At least 1 letter between [A-Z]\n",
    "###### 3. At least 1 character from [$#@]\n",
    "###### 4. Minimum length of transaction password: 6\n",
    "###### 5. Maximum length of transaction password: 12\n",
    "###### Your program should accept a sequence of comma separated passwords and will check them\n",
    "###### according to the above criteria. Passwords that match the criteria are to be printed, each\n",
    "###### separated by a comma.\n",
    "###### Example\n",
    "###### If the following passwords are given as input to the program:\n",
    "###### ABd1234@1,a F1#,2w3E*,2We3345\n",
    "###### Then, the output of the program should be:\n",
    "###### ABd1234@1"
   ]
  },
  {
   "cell_type": "code",
   "execution_count": 9,
   "metadata": {},
   "outputs": [
    {
     "name": "stdout",
     "output_type": "stream",
     "text": [
      "18,22,24,"
     ]
    }
   ],
   "source": [
    "###### Question 1:\n",
    "###### Write a program that calculates and prints the value according to the given formula:\n",
    "###### Q = Square root of [(2 * C * D)/H]\n",
    "###### Following are the fixed values of C and H:\n",
    "###### C is 50. H is 30.\n",
    "###### D is the variable whose values should be input to your program in a comma-separated\n",
    "###### sequence.\n",
    "###### Example\n",
    "###### Let us assume the following comma separated input sequence is given to the program:\n",
    "###### 100,150,180\n",
    "###### The output of the program should be:\n",
    "###### 18,22,24\n",
    "\n",
    "import math \n",
    "def cal(*D):\n",
    "    C=50\n",
    "    H=30\n",
    "    for number in D:\n",
    "        res=math.sqrt((2*C*number)/H)\n",
    "        print(round(res),end=',')\n",
    "\n",
    "#testing\n",
    "cal(100,150,180)"
   ]
  },
  {
   "cell_type": "code",
   "execution_count": 1,
   "metadata": {},
   "outputs": [
    {
     "data": {
      "text/plain": [
       "[[0, 0, 0, 0, 0, 0],\n",
       " [0, 1, 2, 3, 4, 5],\n",
       " [0, 2, 4, 6, 8, 10],\n",
       " [0, 3, 6, 9, 12, 15]]"
      ]
     },
     "execution_count": 1,
     "metadata": {},
     "output_type": "execute_result"
    }
   ],
   "source": [
    "###### Question 2:\n",
    "###### Write a program which takes 2 digits, X,Y as input and generates a 2-dimensional array. The\n",
    "###### element value in the i-th row and j-th column of the array should be i*j.\n",
    "###### Note: i=0,1.., X-1; j=0,1,¡Y-1.\n",
    "###### Example\n",
    "###### Suppose the following inputs are given to the program:\n",
    "###### 3,5\n",
    "###### Then, the output of the program should be:\n",
    "###### [[0, 0, 0, 0, 0], [0, 1, 2, 3, 4], [0, 2, 4, 6, 8]]\n",
    "\n",
    "def twod_arr(x:int,y:int):\n",
    "    #making array\n",
    "    res=[]\n",
    "    for i in range(x):\n",
    "        temp=[]\n",
    "        for j in range(y):\n",
    "            temp.append(i*j)\n",
    "        res.append(temp)\n",
    "    return res\n",
    "\n",
    "#testing\n",
    "twod_arr(4,6)\n",
    "\n"
   ]
  },
  {
   "cell_type": "code",
   "execution_count": 6,
   "metadata": {},
   "outputs": [
    {
     "data": {
      "text/plain": [
       "['bag', 'hello', 'without', 'world']"
      ]
     },
     "execution_count": 6,
     "metadata": {},
     "output_type": "execute_result"
    }
   ],
   "source": [
    "###### Question 3:\n",
    "###### Write a program that accepts a comma separated sequence of words as input and prints the\n",
    "###### words in a comma-separated sequence after sorting them alphabetically.\n",
    "###### Suppose the following input is supplied to the program:\n",
    "###### without,hello,bag,world\n",
    "###### Then, the output should be:\n",
    "###### bag,hello,without,world\n",
    "\n",
    "def sort_words(*args):\n",
    "    args=list(args)\n",
    "    args.sort()\n",
    "    return args\n",
    "#testing\n",
    "sort_words(\"without\",\"hello\",\"bag\",\"world\")"
   ]
  },
  {
   "cell_type": "code",
   "execution_count": 10,
   "metadata": {},
   "outputs": [
    {
     "data": {
      "text/plain": [
       "'again and hello makes perfect practice world'"
      ]
     },
     "execution_count": 10,
     "metadata": {},
     "output_type": "execute_result"
    }
   ],
   "source": [
    "###### Question 4:\n",
    "###### Write a program that accepts a sequence of whitespace separated words as input and prints\n",
    "###### the words after removing all duplicate words and sorting them alphanumerically.\n",
    "###### Suppose the following input is supplied to the program:\n",
    "###### hello world and practice makes perfect and hello world again\n",
    "###### Then, the output should be:\n",
    "###### again and hello makes perfect practice world\n",
    "\n",
    "def rem_dup_sort(data:str):\n",
    "    temp_data=data.split(\" \")\n",
    "    temp_data=list(set(temp_data))\n",
    "    temp_data.sort()\n",
    "    res=\" \".join(map(str,temp_data))\n",
    "    return res\n",
    "    \n",
    "\n",
    "#testing \n",
    "rem_dup_sort(\"hello world and practice makes perfect and hello world again\")"
   ]
  },
  {
   "cell_type": "code",
   "execution_count": 13,
   "metadata": {},
   "outputs": [
    {
     "name": "stdout",
     "output_type": "stream",
     "text": [
      "LETTERS 16\n",
      "DIGIT 3\n"
     ]
    }
   ],
   "source": [
    "###### Question 5:\n",
    "###### Write a program that accepts a sentence and calculate the number of letters and digits.\n",
    "###### Suppose the following input is supplied to the program:\n",
    "###### hello world! 123\n",
    "###### Then, the output should be:\n",
    "###### LETTERS 10\n",
    "###### DIGITS 3\n",
    "\n",
    "import string\n",
    "\n",
    "def lett_digi_count(data:str):\n",
    "    letter_count=0\n",
    "    digit_count=0\n",
    "    for i in range(len(data)):\n",
    "        if data[i] in string.ascii_lowercase or string.ascii_uppercase:\n",
    "            letter_count+=1\n",
    "        if data[i].isdigit():\n",
    "            digit_count+=1\n",
    "    print(f\"LETTERS {letter_count}\")\n",
    "    print(f\"DIGIT {digit_count}\")\n",
    "\n",
    "#testing\n",
    "lett_digi_count(\"hello world! 123\")"
   ]
  },
  {
   "cell_type": "code",
   "execution_count": 2,
   "metadata": {},
   "outputs": [
    {
     "data": {
      "text/plain": [
       "['ABd1234@1']"
      ]
     },
     "execution_count": 2,
     "metadata": {},
     "output_type": "execute_result"
    }
   ],
   "source": [
    "###### Question 6:\n",
    "###### A website requires the users to input username and password to register. Write a program to\n",
    "###### check the validity of password input by users.\n",
    "###### Following are the criteria for checking the password:\n",
    "###### 1. At least 1 letter between [a-z]\n",
    "###### 2. At least 1 number between [0-9]\n",
    "###### 1. At least 1 letter between [A-Z]\n",
    "###### 3. At least 1 character from [$#@]\n",
    "###### 4. Minimum length of transaction password: 6\n",
    "###### 5. Maximum length of transaction password: 12\n",
    "###### Your program should accept a sequence of comma separated passwords and will check them\n",
    "###### according to the above criteria. Passwords that match the criteria are to be printed, each\n",
    "###### separated by a comma.\n",
    "###### Example\n",
    "###### If the following passwords are given as input to the program:\n",
    "###### ABd1234@1,a F1#,2w3E*,2We3345\n",
    "###### Then, the output of the program should be:\n",
    "###### ABd1234@1\n",
    "\n",
    "import string\n",
    "def passwd_checker(*args):\n",
    "    valid_paswd=[]\n",
    "    spl=[\"$\",\"#\",\"@\"]\n",
    "    for arg in args:\n",
    "        a_z=0\n",
    "        A_Z=0\n",
    "        digi_count=0\n",
    "        spl_count=0\n",
    "        if(len(arg)>5 and len(arg)<13):\n",
    "            for i in range(len(arg)):\n",
    "                if(arg[i] in string.ascii_lowercase):\n",
    "                    a_z+=1\n",
    "                if(arg[i] in string.ascii_uppercase):\n",
    "                    A_Z+=1\n",
    "                if(arg[i].isdigit()):\n",
    "                    digi_count+=1\n",
    "                if(arg[i] in spl):\n",
    "                    spl_count+=1\n",
    "            if 0 not in [a_z,A_Z,digi_count,spl_count]:\n",
    "                valid_paswd.append(arg)\n",
    "    return valid_paswd\n",
    "\n",
    "#testing\n",
    "passwd_checker(\"ABd1234@1\",\"a F1#\",\"2w3E*\",\"2We3345\")\n"
   ]
  }
 ],
 "metadata": {
  "kernelspec": {
   "display_name": "base",
   "language": "python",
   "name": "python3"
  },
  "language_info": {
   "codemirror_mode": {
    "name": "ipython",
    "version": 3
   },
   "file_extension": ".py",
   "mimetype": "text/x-python",
   "name": "python",
   "nbconvert_exporter": "python",
   "pygments_lexer": "ipython3",
   "version": "3.9.7"
  },
  "orig_nbformat": 4,
  "vscode": {
   "interpreter": {
    "hash": "2db0b17aa99747902bf31a3be56921a7b088ca8acbbc2c2d7a1e20d80247349f"
   }
  }
 },
 "nbformat": 4,
 "nbformat_minor": 2
}
