{
 "cells": [
  {
   "cell_type": "markdown",
   "metadata": {},
   "source": [
    "###### 1. Write a Python program to print &quot;Hello Python&quot;?\n",
    "###### 2. Write a Python program to do arithmetical operations addition and division.?\n",
    "###### 3. Write a Python program to find the area of a triangle?\n",
    "###### 4. Write a Python program to swap two variables?\n",
    "###### 5. Write a Python program to generate a random number?"
   ]
  },
  {
   "cell_type": "code",
   "execution_count": 2,
   "metadata": {},
   "outputs": [
    {
     "name": "stdout",
     "output_type": "stream",
     "text": [
      "\"Hello Python\"\n"
     ]
    }
   ],
   "source": [
    "# 1\n",
    "print(\"\\\"Hello Python\\\"\")\n"
   ]
  },
  {
   "cell_type": "code",
   "execution_count": 5,
   "metadata": {},
   "outputs": [
    {
     "name": "stdout",
     "output_type": "stream",
     "text": [
      ":Select from the below options:\n",
      "1.Addition\n",
      "2.Division\n",
      "10 / 5 = 2.0\n"
     ]
    }
   ],
   "source": [
    "# 2\n",
    "print(\":Select from the below options:\")\n",
    "print(\"1.Addition\\n2.Division\")\n",
    "choice=int(input(\"Enter your choice:\"))\n",
    "num1=int(input(\"A = \"))\n",
    "num2=int(input(\"B = \"))\n",
    "if(choice==1):\n",
    "    print(f\"{num1} + {num2} = {num1+num2}\")\n",
    "elif(choice==2):\n",
    "    print(f\"{num1} / {num2} = {num1/num2}\")\n",
    "else:\n",
    "    print(\"Invalid choice.Try again!\")    "
   ]
  },
  {
   "cell_type": "code",
   "execution_count": 8,
   "metadata": {},
   "outputs": [
    {
     "name": "stdout",
     "output_type": "stream",
     "text": [
      "Area of the triangle ABC is 8.94\n"
     ]
    }
   ],
   "source": [
    "# 3\n",
    "# area of triangle with having 3 sides\n",
    "import math\n",
    "a=int(input(\"A = \"))\n",
    "b=int(input(\"B = \"))\n",
    "c=int(input(\"C = \"))\n",
    "s=(a+b+c)/2\n",
    "area=math.sqrt(s*(s-a)*(s-b)*(s-c))\n",
    "print(f\"Area of the triangle ABC is {round(area,2)}\")"
   ]
  },
  {
   "cell_type": "code",
   "execution_count": 9,
   "metadata": {},
   "outputs": [
    {
     "name": "stdout",
     "output_type": "stream",
     "text": [
      "20\n",
      "10\n"
     ]
    }
   ],
   "source": [
    "# 4 swapping variables\n",
    "val_1=10\n",
    "val_2=20\n",
    "temp=0\n",
    "# swapping\n",
    "temp=val_1\n",
    "val_1=val_2\n",
    "val_2=temp\n",
    "print(val_1)\n",
    "print(val_2)\n"
   ]
  },
  {
   "cell_type": "code",
   "execution_count": 29,
   "metadata": {},
   "outputs": [
    {
     "name": "stdout",
     "output_type": "stream",
     "text": [
      "0.6921558777687098\n"
     ]
    }
   ],
   "source": [
    "# 5\n",
    "import random\n",
    "\n",
    "num=random.random()\n",
    "print(num)"
   ]
  }
 ],
 "metadata": {
  "kernelspec": {
   "display_name": "Python 3.9.7 ('base')",
   "language": "python",
   "name": "python3"
  },
  "language_info": {
   "codemirror_mode": {
    "name": "ipython",
    "version": 3
   },
   "file_extension": ".py",
   "mimetype": "text/x-python",
   "name": "python",
   "nbconvert_exporter": "python",
   "pygments_lexer": "ipython3",
   "version": "3.9.7"
  },
  "orig_nbformat": 4,
  "vscode": {
   "interpreter": {
    "hash": "2db0b17aa99747902bf31a3be56921a7b088ca8acbbc2c2d7a1e20d80247349f"
   }
  }
 },
 "nbformat": 4,
 "nbformat_minor": 2
}
