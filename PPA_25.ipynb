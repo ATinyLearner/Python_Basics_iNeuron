{
 "cells": [
  {
   "cell_type": "code",
   "execution_count": 1,
   "metadata": {},
   "outputs": [
    {
     "name": "stdout",
     "output_type": "stream",
     "text": [
      "2\n",
      "0\n"
     ]
    }
   ],
   "source": [
    "# Question1\n",
    "# Create a function that takes three integer arguments (a, b, c) and returns the amount of\n",
    "# integers which are of equal value.\n",
    "def equal(num1,num2,num3):\n",
    "    if(num1==num2==num3):\n",
    "        return 3\n",
    "    elif(num1==num2 or num1==num3 or num2==num3):\n",
    "        return 2\n",
    "    else:\n",
    "        return 0\n",
    "\n",
    "#testing\n",
    "print(equal(3, 4, 3))\n",
    "print(equal(3, 4, 1))"
   ]
  },
  {
   "cell_type": "code",
   "execution_count": 3,
   "metadata": {},
   "outputs": [
    {
     "data": {
      "text/plain": [
       "[('dislikes', 3), ('followers', 10), ('likes', 2)]"
      ]
     },
     "execution_count": 3,
     "metadata": {},
     "output_type": "execute_result"
    }
   ],
   "source": [
    "# Question2\n",
    "# Write a function that converts a dictionary into a list of keys-values tuples.\n",
    "def dict_to_list(data:dict):\n",
    "    keys=list(data.keys())\n",
    "    keys.sort()\n",
    "    vals=list(data.values())\n",
    "    res=[]\n",
    "    for i in range(len(keys)):\n",
    "        temp=(keys[i],data[keys[i]])\n",
    "        res.append(temp)\n",
    "    return res\n",
    "\n",
    "#testing\n",
    "dict_to_list({\n",
    "\"likes\": 2,\n",
    "\"dislikes\": 3,\n",
    "\"followers\": 10\n",
    "})"
   ]
  },
  {
   "cell_type": "code",
   "execution_count": 4,
   "metadata": {},
   "outputs": [
    {
     "data": {
      "text/plain": [
       "{'a': 'A', 'v': 'V', 'y': 'Y', 'z': 'Z'}"
      ]
     },
     "execution_count": 4,
     "metadata": {},
     "output_type": "execute_result"
    }
   ],
   "source": [
    "# Question3\n",
    "# Write a function that creates a dictionary with each (key, value) pair being the (lower case,\n",
    "# upper case) versions of a letter, respectively.\n",
    "def mapping(data:list):\n",
    "    res=dict()\n",
    "    for alp in data:\n",
    "        res[alp]=alp.upper()\n",
    "    return res\n",
    "\n",
    "#testing\n",
    "mapping([\"a\", \"v\", \"y\", \"z\"])"
   ]
  },
  {
   "cell_type": "code",
   "execution_count": 8,
   "metadata": {},
   "outputs": [
    {
     "data": {
      "text/plain": [
       "'upplus und bununus'"
      ]
     },
     "execution_count": 8,
     "metadata": {},
     "output_type": "execute_result"
    }
   ],
   "source": [
    "# Question4\n",
    "# Write a function, that replaces all vowels in a string with a specified vowel.\n",
    "def vow_replace(val:str,let:str):\n",
    "    data=val\n",
    "    vows=['a','e','i','o','u']\n",
    "    for ele in data:\n",
    "        if(ele in vows):\n",
    "            data=data.replace(ele,let)\n",
    "    return data\n",
    "\n",
    "#testing\n",
    "vow_replace(\"apples and bananas\", \"u\")"
   ]
  },
  {
   "cell_type": "code",
   "execution_count": 10,
   "metadata": {},
   "outputs": [
    {
     "data": {
      "text/plain": [
       "'To Be oR NoT To Be!'"
      ]
     },
     "execution_count": 10,
     "metadata": {},
     "output_type": "execute_result"
    }
   ],
   "source": [
    "# Question5\n",
    "# Create a function that takes a string as input and capitalizes a letter if its ASCII code is even\n",
    "# and returns its lower case version if its ASCII code is odd.\n",
    "def ascii_capitalize(val:str):\n",
    "    data=val\n",
    "    for ele in data:\n",
    "        if(ord(ele)%2==0):\n",
    "            data=data.replace(ele,ele.upper())\n",
    "        else:\n",
    "            data=data.replace(ele,ele.lower())\n",
    "    return data\n",
    "#testing\n",
    "ascii_capitalize(\"to be or not to be!\")"
   ]
  }
 ],
 "metadata": {
  "kernelspec": {
   "display_name": "base",
   "language": "python",
   "name": "python3"
  },
  "language_info": {
   "codemirror_mode": {
    "name": "ipython",
    "version": 3
   },
   "file_extension": ".py",
   "mimetype": "text/x-python",
   "name": "python",
   "nbconvert_exporter": "python",
   "pygments_lexer": "ipython3",
   "version": "3.9.7"
  },
  "orig_nbformat": 4,
  "vscode": {
   "interpreter": {
    "hash": "2db0b17aa99747902bf31a3be56921a7b088ca8acbbc2c2d7a1e20d80247349f"
   }
  }
 },
 "nbformat": 4,
 "nbformat_minor": 2
}
