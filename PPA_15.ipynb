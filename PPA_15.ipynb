{
 "cells": [
  {
   "attachments": {},
   "cell_type": "markdown",
   "metadata": {},
   "source": [
    "### Question 1:\n",
    "###### Please write a program using generator to print the numbers which can be divisible by 5 and\n",
    "###### 7 between 0 and n in comma separated form while n is input by console.\n",
    "###### Example:\n",
    "###### If the following n is given as input to the program:\n",
    "###### 100\n",
    "###### Then, the output of the program should be:\n",
    "###### 0,35,70\n",
    "\n",
    "### Question 2:\n",
    "###### Please write a program using generator to print the even numbers between 0 and n in comma\n",
    "###### separated form while n is input by console.\n",
    "###### Example:\n",
    "###### If the following n is given as input to the program:\n",
    "###### 10\n",
    "###### Then, the output of the program should be:\n",
    "###### 0,2,4,6,8,10\n",
    "\n",
    "### Question 3:\n",
    "###### The Fibonacci Sequence is computed based on the following formula:\n",
    "###### f(n)=0 if n=0\n",
    "###### f(n)=1 if n=1\n",
    "###### f(n)=f(n-1)+f(n-2) if n&gt;1\n",
    "###### Please write a program using list comprehension to print the Fibonacci Sequence in comma\n",
    "###### separated form with a given n input by console.\n",
    "###### Example:\n",
    "###### If the following n is given as input to the program:\n",
    "###### 7\n",
    "\n",
    "###### Then, the output of the program should be:\n",
    "###### 0,1,1,2,3,5,8,13\n",
    "\n",
    "### Question 4:\n",
    "###### Assuming that we have some email addresses in the &quot;username@companyname.com&quot; format,\n",
    "###### please write program to print the user name of a given email address. Both user names and\n",
    "###### company names are composed of letters only.\n",
    "###### Example:\n",
    "###### If the following email address is given as input to the program:\n",
    "###### john@google.com\n",
    "###### Then, the output of the program should be:\n",
    "###### john\n",
    "\n",
    "### Question 5:\n",
    "###### Define a class named Shape and its subclass Square. The Square class has an init function\n",
    "###### which takes a length as argument. Both classes have a area function which can print the area\n",
    "###### of the shape where Shape&#39;s area is 0 by default."
   ]
  },
  {
   "cell_type": "code",
   "execution_count": 1,
   "metadata": {},
   "outputs": [
    {
     "name": "stdout",
     "output_type": "stream",
     "text": [
      "0,35,70,"
     ]
    }
   ],
   "source": [
    "### Question 1:\n",
    "###### Please write a program using generator to print the numbers which can be divisible by 5 and\n",
    "###### 7 between 0 and n in comma separated form while n is input by console.\n",
    "###### Example:\n",
    "###### If the following n is given as input to the program:\n",
    "###### 100\n",
    "###### Then, the output of the program should be:\n",
    "###### 0,35,70\n",
    "\n",
    "def gen_nums(num:int):\n",
    "    start=0\n",
    "    while start<num+1:\n",
    "        if(start%7==0 and start%5==0):\n",
    "            yield start\n",
    "        start+=1\n",
    "\n",
    "#testing\n",
    "for i in gen_nums(100):\n",
    "    print(i,end=\",\")"
   ]
  },
  {
   "cell_type": "code",
   "execution_count": 2,
   "metadata": {},
   "outputs": [
    {
     "name": "stdout",
     "output_type": "stream",
     "text": [
      "0,2,4,6,8,10,"
     ]
    }
   ],
   "source": [
    "### Question 2:\n",
    "###### Please write a program using generator to print the even numbers between 0 and n in comma\n",
    "###### separated form while n is input by console.\n",
    "###### Example:\n",
    "###### If the following n is given as input to the program:\n",
    "###### 10\n",
    "###### Then, the output of the program should be:\n",
    "###### 0,2,4,6,8,10\n",
    "\n",
    "def test_fun(n:int):\n",
    "    def gen_nums(num:int):\n",
    "        start=0\n",
    "        while start<num+1:\n",
    "            if(start%2==0):\n",
    "                yield start\n",
    "            start+=1\n",
    "    for i in gen_nums(n):\n",
    "        print(i,end=\",\")\n",
    "\n",
    "#testing\n",
    "test_fun(10)"
   ]
  },
  {
   "cell_type": "code",
   "execution_count": 3,
   "metadata": {},
   "outputs": [
    {
     "name": "stdout",
     "output_type": "stream",
     "text": [
      "0,1,1,2,3,5,8,13,"
     ]
    }
   ],
   "source": [
    "### Question 3:\n",
    "###### The Fibonacci Sequence is computed based on the following formula:\n",
    "###### f(n)=0 if n=0\n",
    "###### f(n)=1 if n=1\n",
    "###### f(n)=f(n-1)+f(n-2) if n>1\n",
    "###### Please write a program using list comprehension to print the Fibonacci Sequence in comma\n",
    "###### separated form with a given n input by console.\n",
    "###### Example:\n",
    "###### If the following n is given as input to the program:\n",
    "###### 7\n",
    "###### Then, the output of the program should be:\n",
    "###### 0,1,1,2,3,5,8,13\n",
    "\n",
    "def test_fun(n:int):\n",
    "    def fib_num(num:int):\n",
    "        if(num==0):\n",
    "            return 0\n",
    "        if(num==1):\n",
    "            return 1\n",
    "        if(num>1):\n",
    "            return fib_num(num=num-2)+fib_num(num=num-1)\n",
    "    [print(fib_num(num),end=\",\") for num in range(n+1)]\n",
    "\n",
    "#testing\n",
    "test_fun(7)"
   ]
  },
  {
   "cell_type": "code",
   "execution_count": 7,
   "metadata": {},
   "outputs": [
    {
     "data": {
      "text/plain": [
       "'john'"
      ]
     },
     "execution_count": 7,
     "metadata": {},
     "output_type": "execute_result"
    }
   ],
   "source": [
    "### Question 4:\n",
    "###### Assuming that we have some email addresses in the \"username@companyname.com\" format,\n",
    "###### please write program to print the user name of a given email address. Both user names and\n",
    "###### company names are composed of letters only.\n",
    "###### Example:\n",
    "###### If the following email address is given as input to the program:\n",
    "###### john@google.com\n",
    "###### Then, the output of the program should be:\n",
    "###### john\n",
    "\n",
    "def user_get(data:str):\n",
    "    for i in range(len(data)):\n",
    "        if(data[i]=='@'):\n",
    "            return data[:i]\n",
    "\n",
    "#testing\n",
    "user_get('john@google.com')"
   ]
  },
  {
   "cell_type": "code",
   "execution_count": 12,
   "metadata": {},
   "outputs": [
    {
     "data": {
      "text/plain": [
       "100"
      ]
     },
     "execution_count": 12,
     "metadata": {},
     "output_type": "execute_result"
    }
   ],
   "source": [
    "### Question 5:\n",
    "###### Define a class named Shape and its subclass Square. The Square class has an init function\n",
    "###### which takes a length as argument. Both classes have a area function which can print the area\n",
    "###### of the shape where Shapes' area is 0 by default.\n",
    "\n",
    "class Shape:\n",
    "    def area():\n",
    "        return 0\n",
    "\n",
    "class Square(Shape):\n",
    "    def __init__(self,length:int) -> None:\n",
    "        self.length=length\n",
    "    \n",
    "    def area(self):\n",
    "        return self.length**2\n",
    "\n",
    "#testing\n",
    "sqr=Square(10)\n",
    "sqr.area()"
   ]
  },
  {
   "cell_type": "code",
   "execution_count": null,
   "metadata": {},
   "outputs": [],
   "source": []
  }
 ],
 "metadata": {
  "kernelspec": {
   "display_name": "base",
   "language": "python",
   "name": "python3"
  },
  "language_info": {
   "codemirror_mode": {
    "name": "ipython",
    "version": 3
   },
   "file_extension": ".py",
   "mimetype": "text/x-python",
   "name": "python",
   "nbconvert_exporter": "python",
   "pygments_lexer": "ipython3",
   "version": "3.9.7"
  },
  "orig_nbformat": 4,
  "vscode": {
   "interpreter": {
    "hash": "2db0b17aa99747902bf31a3be56921a7b088ca8acbbc2c2d7a1e20d80247349f"
   }
  }
 },
 "nbformat": 4,
 "nbformat_minor": 2
}
