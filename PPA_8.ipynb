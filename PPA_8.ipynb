{
 "cells": [
  {
   "cell_type": "markdown",
   "metadata": {},
   "source": [
    "###### 1. Write a Python Program to Add Two Matrices?\n",
    "###### 2. Write a Python Program to Multiply Two Matrices?\n",
    "###### 3. Write a Python Program to Transpose a Matrix?\n",
    "###### 4. Write a Python Program to Sort Words in Alphabetic Order?\n",
    "###### 5. Write a Python Program to Remove Punctuation From a String?"
   ]
  },
  {
   "cell_type": "code",
   "execution_count": 1,
   "metadata": {},
   "outputs": [
    {
     "data": {
      "text/plain": [
       "[[17, 15, 4], [10, 12, 9], [11, 13, 18]]"
      ]
     },
     "execution_count": 1,
     "metadata": {},
     "output_type": "execute_result"
    }
   ],
   "source": [
    "# 1. Write a Python Program to Add Two Matrices?\n",
    "def mat_add(mat1:list,mat2:list):\n",
    "    result=[]\n",
    "    for i in range(len(mat1)):\n",
    "        temp=[]\n",
    "        for j in range(len(mat1[i])):\n",
    "            temp.append(mat1[i][j]+mat2[i][j])\n",
    "        result.append(temp)\n",
    "    return result\n",
    "# testing\n",
    "X = [[12,7,3],\n",
    "    [4 ,5,6],\n",
    "    [7 ,8,9]]\n",
    "\n",
    "Y = [[5,8,1],\n",
    "    [6,7,3],\n",
    "    [4,5,9]]\n",
    "mat_add(mat1=X,mat2=Y)"
   ]
  },
  {
   "cell_type": "code",
   "execution_count": 7,
   "metadata": {},
   "outputs": [
    {
     "data": {
      "text/plain": [
       "[[114, 160, 60], [74, 97, 73], [119, 157, 112]]"
      ]
     },
     "execution_count": 7,
     "metadata": {},
     "output_type": "execute_result"
    }
   ],
   "source": [
    "# 2. Write a Python Program to Multiply Two Matrices?\n",
    "def mul_mat(mat1:list,mat2:list):\n",
    "    res_mat=[]\n",
    "    #making a zero matrix for result\n",
    "    for i in range(len(mat1)):\n",
    "        res_mat.append([0]*len(mat2[0]))\n",
    "    #calculating matrix\n",
    "    for i in range(len(mat1)): #iterating row of mat1\n",
    "        for j in range(len(mat2[0])):#iterating column of mat2\n",
    "            for k in range(len(mat2)):#iterating rows of mat2\n",
    "                res_mat[i][j]+=mat1[i][k]*mat2[k][j]\n",
    "    return res_mat\n",
    "\n",
    "# 3x3 matrix\n",
    "X = [[12,7,3],\n",
    "    [4 ,5,6],\n",
    "    [7 ,8,9]]\n",
    "# 3x4 matrix\n",
    "Y = [[5,8,1],\n",
    "    [6,7,3],\n",
    "    [4,5,9]]\n",
    "\n",
    "mul_mat(X,Y)\n",
    "            "
   ]
  },
  {
   "cell_type": "code",
   "execution_count": 8,
   "metadata": {},
   "outputs": [
    {
     "data": {
      "text/plain": [
       "[[12, 4, 7], [7, 5, 8], [3, 6, 9]]"
      ]
     },
     "execution_count": 8,
     "metadata": {},
     "output_type": "execute_result"
    }
   ],
   "source": [
    "# 3. Write a Python Program to Transpose a Matrix?\n",
    "def mat_trans(mat:list):\n",
    "    res_mat=[]\n",
    "    #making a zero matrix for resultj\n",
    "    for i in range(len(mat)):\n",
    "        res_mat.append([0]*len(mat[0]))\n",
    "    for i in range(len(mat)): #iterating using rows\n",
    "        for j in range(len(mat[0])): #iterating using columns\n",
    "            res_mat[i][j]=mat[j][i]\n",
    "    return res_mat\n",
    "mat_trans([[12,7,3],\n",
    "    [4 ,5,6],\n",
    "    [7 ,8,9]])"
   ]
  },
  {
   "cell_type": "code",
   "execution_count": 14,
   "metadata": {},
   "outputs": [
    {
     "data": {
      "text/plain": [
       "['abc', 'mat', 'rat', 'xerox']"
      ]
     },
     "execution_count": 14,
     "metadata": {},
     "output_type": "execute_result"
    }
   ],
   "source": [
    "# 4. Write a Python Program to Sort Words in Alphabetic Order?\n",
    "def sort_words(words:list):\n",
    "    for i in range(len(words)):\n",
    "        for j in range(i+1,len(words)):\n",
    "            if words[i]>words[j]:\n",
    "                temp=words[i]\n",
    "                words[i]=words[j]\n",
    "                words[j]=temp\n",
    "    return words\n",
    "data=[\"xerox\",\"abc\",\"rat\",\"mat\"]\n",
    "sort_words(data)"
   ]
  },
  {
   "cell_type": "code",
   "execution_count": 16,
   "metadata": {},
   "outputs": [
    {
     "data": {
      "text/plain": [
       "'Hello This is a Test'"
      ]
     },
     "execution_count": 16,
     "metadata": {},
     "output_type": "execute_result"
    }
   ],
   "source": [
    "# 5. Write a Python Program to Remove Punctuation From a String?\n",
    "import re\n",
    "\n",
    "def rem_pun(data:str):\n",
    "    return re.sub(r'[^\\w\\s]','',data)\n",
    "rem_pun(\"Hello!!!, $#@!*()&,.This is &a ##$Test$$.\")"
   ]
  },
  {
   "cell_type": "code",
   "execution_count": null,
   "metadata": {},
   "outputs": [],
   "source": []
  }
 ],
 "metadata": {
  "kernelspec": {
   "display_name": "Python 3.9.7 ('base')",
   "language": "python",
   "name": "python3"
  },
  "language_info": {
   "codemirror_mode": {
    "name": "ipython",
    "version": 3
   },
   "file_extension": ".py",
   "mimetype": "text/x-python",
   "name": "python",
   "nbconvert_exporter": "python",
   "pygments_lexer": "ipython3",
   "version": "3.9.7"
  },
  "orig_nbformat": 4,
  "vscode": {
   "interpreter": {
    "hash": "2db0b17aa99747902bf31a3be56921a7b088ca8acbbc2c2d7a1e20d80247349f"
   }
  }
 },
 "nbformat": 4,
 "nbformat_minor": 2
}
