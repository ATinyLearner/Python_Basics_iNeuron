{
 "cells": [
  {
   "cell_type": "code",
   "execution_count": 1,
   "metadata": {},
   "outputs": [
    {
     "data": {
      "text/plain": [
       "'in... in... incredible?'"
      ]
     },
     "execution_count": 1,
     "metadata": {},
     "output_type": "execute_result"
    }
   ],
   "source": [
    "#Question 1:\n",
    "#Write a function that stutters a word as if someone is struggling to read it. The\n",
    "#first two letters are repeated twice with an ellipsis ... and space after each, and then the\n",
    "#word is pronounced with a question mark ?.\n",
    "def stutter_words(data:str):\n",
    "    first_two=data[:2]\n",
    "    res=f\"{first_two}... {first_two}... {data}?\"\n",
    "    return res\n",
    "\n",
    "#testing\n",
    "stutter_words(\"incredible\")"
   ]
  },
  {
   "cell_type": "code",
   "execution_count": 8,
   "metadata": {},
   "outputs": [
    {
     "data": {
      "text/plain": [
       "2864.8"
      ]
     },
     "execution_count": 8,
     "metadata": {},
     "output_type": "execute_result"
    }
   ],
   "source": [
    "#Question 2.Create a function that takes an angle in radians and returns the corresponding\n",
    "#angle in degrees rounded to one decimal place.\n",
    "import math\n",
    "def red_deg(rad:float):\n",
    "    return round((rad*180)/math.pi,1)\n",
    "\n",
    "#testing\n",
    "red_deg(50)"
   ]
  },
  {
   "cell_type": "code",
   "execution_count": 2,
   "metadata": {},
   "outputs": [
    {
     "name": "stdout",
     "output_type": "stream",
     "text": [
      "False\n",
      "True\n"
     ]
    }
   ],
   "source": [
    "#Question 3. In this challenge, establish if a given integer num is a Curzon number. If 1 plus\n",
    "#2 elevated to num is exactly divisible by 1 plus 2 multiplied by num, then num is a Curzon\n",
    "#number.\n",
    "def is_curzon(num:int):\n",
    "    a=(2**num)+1\n",
    "    b=(2*num)+1\n",
    "    if(a%b==0):\n",
    "        return True\n",
    "    else:\n",
    "        return False\n",
    "\n",
    "#testing\n",
    "print(is_curzon(10)) #false\n",
    "print(is_curzon(5)) #true"
   ]
  },
  {
   "cell_type": "code",
   "execution_count": 5,
   "metadata": {},
   "outputs": [
    {
     "data": {
      "text/plain": [
       "2.6"
      ]
     },
     "execution_count": 5,
     "metadata": {},
     "output_type": "execute_result"
    }
   ],
   "source": [
    "#Question 4 : find area of hexagon\n",
    "import math\n",
    "def area_hexagon(length:int):\n",
    "    res= (3*(length**2)*math.sqrt(3))/2\n",
    "    return round(res,1)\n",
    "\n",
    "#test\n",
    "area_hexagon(1)"
   ]
  },
  {
   "cell_type": "code",
   "execution_count": 17,
   "metadata": {},
   "outputs": [
    {
     "data": {
      "text/plain": [
       "'1010'"
      ]
     },
     "execution_count": 17,
     "metadata": {},
     "output_type": "execute_result"
    }
   ],
   "source": [
    "# Question 5 : find binary representation\n",
    "def binary(data:int):\n",
    "    binary_number=[]\n",
    "    while(True):\n",
    "        binary_number.append(str(data%2))\n",
    "        if(data==1):\n",
    "            break\n",
    "        data=int(data/2)\n",
    "    binary_number.reverse()\n",
    "    res=''.join(binary_number)\n",
    "    return res\n",
    "\n",
    "binary(10)"
   ]
  }
 ],
 "metadata": {
  "kernelspec": {
   "display_name": "base",
   "language": "python",
   "name": "python3"
  },
  "language_info": {
   "codemirror_mode": {
    "name": "ipython",
    "version": 3
   },
   "file_extension": ".py",
   "mimetype": "text/x-python",
   "name": "python",
   "nbconvert_exporter": "python",
   "pygments_lexer": "ipython3",
   "version": "3.9.7"
  },
  "orig_nbformat": 4,
  "vscode": {
   "interpreter": {
    "hash": "2db0b17aa99747902bf31a3be56921a7b088ca8acbbc2c2d7a1e20d80247349f"
   }
  }
 },
 "nbformat": 4,
 "nbformat_minor": 2
}
