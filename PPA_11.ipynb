{
 "cells": [
  {
   "cell_type": "markdown",
   "metadata": {},
   "source": [
    "###### 1. Write a Python program to find words which are greater than given length k?\n",
    "###### 2. Write a Python program for removing i-th character from a string?\n",
    "###### 3. Write a Python program to split and join a string?\n",
    "###### 4. Write a Python to check if a given string is binary string or not?\n",
    "###### 5. Write a Python program to find uncommon words from two Strings?\n",
    "###### 6. Write a Python to find all duplicate characters in string?\n",
    "###### 7. Write a Python Program to check if a string contains any special character?"
   ]
  },
  {
   "cell_type": "code",
   "execution_count": null,
   "metadata": {},
   "outputs": [],
   "source": [
    "# 1. Write a Python program to find words which are greater than given length k?\n",
    "def word_len_search(words:list,l:int):\n",
    "    for word in words:\n",
    "        if(len(word)>l):\n",
    "            print(word)\n",
    "#test data\n",
    "words=[\"balls\",\"umbtrella\",\"cake\",\"Ass\",\"Donkey\"]\n",
    "\n",
    "word_len_search(words=words,l=3)"
   ]
  },
  {
   "cell_type": "code",
   "execution_count": null,
   "metadata": {},
   "outputs": [],
   "source": [
    "# 2. Write a Python program for removing i-th character from a string?\n",
    "def rem_str(word:str,indx:int):\n",
    "    indx-=1\n",
    "    temp=list(word)\n",
    "    res=\"\"\n",
    "    for i in range(len(temp)):\n",
    "        if(i==indx):\n",
    "            temp.pop(i)\n",
    "    res=res.join(temp)\n",
    "    return res\n",
    "\n",
    "#test\n",
    "rem_str(\"duck\",3)"
   ]
  },
  {
   "cell_type": "code",
   "execution_count": null,
   "metadata": {},
   "outputs": [],
   "source": [
    "# 3. Write a Python program to split and join a string?\n",
    "def split_str(word:str):\n",
    "    return list(word)\n",
    "\n",
    "#test\n",
    "split_str(\"Cock\")\n",
    "\n",
    "def join_str(word:str):\n",
    "    res=\"\"\n",
    "    res=res.join(word)\n",
    "    return res \n",
    "#test\n",
    "join_str(split_str(\"Cock\"))"
   ]
  },
  {
   "cell_type": "code",
   "execution_count": 2,
   "metadata": {},
   "outputs": [
    {
     "name": "stdout",
     "output_type": "stream",
     "text": [
      "True\n",
      "False\n"
     ]
    }
   ],
   "source": [
    "# 4. Write a Python to check if a given string is binary string or not?\n",
    "def if_binary(data:str):\n",
    "    b_unit={'0','1'}\n",
    "    temp_data=set(data)\n",
    "    if(temp_data==b_unit or temp_data=={'0'} or temp_data=={'1'} ):\n",
    "        return True\n",
    "    else:\n",
    "        return False\n",
    "#testing\n",
    "print(if_binary(\"01010001\"))\n",
    "print(if_binary('1201340'))"
   ]
  },
  {
   "cell_type": "code",
   "execution_count": 5,
   "metadata": {},
   "outputs": [
    {
     "data": {
      "text/plain": [
       "['this', 'is', 'a', 'food', 'bat', 'foods', 'are']"
      ]
     },
     "execution_count": 5,
     "metadata": {},
     "output_type": "execute_result"
    }
   ],
   "source": [
    "# 5. Write a Python program to find uncommon words from two Strings?\n",
    "def unc_words(string_1:str,string_2:str):\n",
    "    words_1=string_1.split(\" \")\n",
    "    words_2=string_2.split(\" \")\n",
    "    res=[]\n",
    "    for word in words_1:\n",
    "        if word not in words_2:\n",
    "            res.append(word)\n",
    "    for word in words_2:\n",
    "        if word not in words_1:\n",
    "            res.append(word)\n",
    "        \n",
    "    return res\n",
    "\n",
    "#testing\n",
    "unc_words(\"this is a good food bat mat\",\"foods are good mat\")"
   ]
  },
  {
   "cell_type": "code",
   "execution_count": 4,
   "metadata": {},
   "outputs": [
    {
     "data": {
      "text/plain": [
       "['good', 'mat']"
      ]
     },
     "execution_count": 4,
     "metadata": {},
     "output_type": "execute_result"
    }
   ],
   "source": [
    "# 6. Write a Python to find all duplicate characters in string?\n",
    "def cmm_words(string_1:str,string_2:str):\n",
    "    words_1=string_1.split(\" \")\n",
    "    words_2=string_2.split(\" \")\n",
    "    res=[]\n",
    "    for word in words_1:\n",
    "        if word in words_2:\n",
    "            res.append(word)\n",
    "        \n",
    "    return res\n",
    "\n",
    "#testing\n",
    "cmm_words(\"this is a good food bat mat\",\"foods are good mat\")"
   ]
  },
  {
   "cell_type": "code",
   "execution_count": 3,
   "metadata": {},
   "outputs": [
    {
     "name": "stdout",
     "output_type": "stream",
     "text": [
      "False\n",
      "True\n"
     ]
    }
   ],
   "source": [
    "# 7. Write a Python Program to check if a string contains any special character?\n",
    "def spcl_char(data:str):\n",
    "    sp_char=\"!@#$^&*()-+?_=,<>/\"\n",
    "    if any(c in sp_char for c in data):\n",
    "        return True\n",
    "    else:\n",
    "        return False\n",
    "\n",
    "#testing\n",
    "print(spcl_char(\"This is a test\"))\n",
    "print(spcl_char(\"This is a test!\"))"
   ]
  }
 ],
 "metadata": {
  "kernelspec": {
   "display_name": "Python 3.9.7 ('base')",
   "language": "python",
   "name": "python3"
  },
  "language_info": {
   "codemirror_mode": {
    "name": "ipython",
    "version": 3
   },
   "file_extension": ".py",
   "mimetype": "text/x-python",
   "name": "python",
   "nbconvert_exporter": "python",
   "pygments_lexer": "ipython3",
   "version": "3.9.7"
  },
  "orig_nbformat": 4,
  "vscode": {
   "interpreter": {
    "hash": "2db0b17aa99747902bf31a3be56921a7b088ca8acbbc2c2d7a1e20d80247349f"
   }
  }
 },
 "nbformat": 4,
 "nbformat_minor": 2
}
