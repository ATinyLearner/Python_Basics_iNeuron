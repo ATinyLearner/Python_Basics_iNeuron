{
 "cells": [
  {
   "cell_type": "markdown",
   "metadata": {},
   "source": [
    "###### 1. Write a Python program to find sum of elements in list?\n",
    "###### 2. Write a Python program to Multiply all numbers in the list?\n",
    "###### 3. Write a Python program to find smallest number in a list?\n",
    "###### 4. Write a Python program to find largest number in a list?\n",
    "###### 5. Write a Python program to find second largest number in a list?\n",
    "###### 6. Write a Python program to find N largest elements from a list?\n",
    "###### 7. Write a Python program to print even numbers in a list?\n",
    "###### 8. Write a Python program to print odd numbers in a List?\n",
    "###### 9. Write a Python program to Remove empty List from List?\n",
    "###### 10. Write a Python program to Cloning or Copying a list?\n",
    "###### 11. Write a Python program to Count occurrences of an element in a list?"
   ]
  },
  {
   "cell_type": "code",
   "execution_count": 1,
   "metadata": {},
   "outputs": [],
   "source": [
    "test_data=[22,5,6,7,1,10,-5]"
   ]
  },
  {
   "cell_type": "code",
   "execution_count": 2,
   "metadata": {},
   "outputs": [
    {
     "data": {
      "text/plain": [
       "46"
      ]
     },
     "execution_count": 2,
     "metadata": {},
     "output_type": "execute_result"
    }
   ],
   "source": [
    "# 1. Write a Python program to find sum of elements in list?\n",
    "def sum_list(data:list):\n",
    "    total=0\n",
    "    for num in data:\n",
    "        total+=num\n",
    "    return total\n",
    "\n",
    "#test\n",
    "sum_list(test_data)"
   ]
  },
  {
   "cell_type": "code",
   "execution_count": 3,
   "metadata": {},
   "outputs": [
    {
     "data": {
      "text/plain": [
       "-231000"
      ]
     },
     "execution_count": 3,
     "metadata": {},
     "output_type": "execute_result"
    }
   ],
   "source": [
    "# 2. Write a Python program to Multiply all numbers in the list?\n",
    "def mul_list(data:list):\n",
    "    total=1\n",
    "    for num in data:\n",
    "        total*=num\n",
    "    return total\n",
    "\n",
    "#test\n",
    "mul_list(test_data)"
   ]
  },
  {
   "cell_type": "code",
   "execution_count": 4,
   "metadata": {},
   "outputs": [
    {
     "data": {
      "text/plain": [
       "-5"
      ]
     },
     "execution_count": 4,
     "metadata": {},
     "output_type": "execute_result"
    }
   ],
   "source": [
    "# 3. Write a Python program to find smallest number in a list?\n",
    "def min_list(data:list):\n",
    "    min_num=0\n",
    "    for i in range(len(data)):\n",
    "        if i==0:\n",
    "            min_num=data[i]\n",
    "        else:\n",
    "            if data[i]<min_num:\n",
    "                min_num=data[i]\n",
    "    return min_num\n",
    "\n",
    "#test\n",
    "min_list(test_data)"
   ]
  },
  {
   "cell_type": "code",
   "execution_count": 5,
   "metadata": {},
   "outputs": [
    {
     "data": {
      "text/plain": [
       "22"
      ]
     },
     "execution_count": 5,
     "metadata": {},
     "output_type": "execute_result"
    }
   ],
   "source": [
    "# 4. Write a Python program to find largest number in a list?\n",
    "def max_list(data:list):\n",
    "    max_num=0\n",
    "    for i in range(len(data)):\n",
    "        if i==0:\n",
    "            max_num=data[i]\n",
    "        else:\n",
    "            if data[i]>max_num:\n",
    "                max_num=data[i]\n",
    "    return max_num\n",
    "\n",
    "#test\n",
    "max_list(test_data)"
   ]
  },
  {
   "cell_type": "code",
   "execution_count": 6,
   "metadata": {},
   "outputs": [
    {
     "data": {
      "text/plain": [
       "10"
      ]
     },
     "execution_count": 6,
     "metadata": {},
     "output_type": "execute_result"
    }
   ],
   "source": [
    "# 5. Write a Python program to find second largest number in a list?\n",
    "def sec_max(data:list):\n",
    "    sec=0\n",
    "    first=max_list(data)\n",
    "    for i in range(len(data)):\n",
    "        if data[i]>sec and data[i]<first:\n",
    "            sec=data[i]\n",
    "    return sec\n",
    "\n",
    "#testing\n",
    "sec_max(test_data)"
   ]
  },
  {
   "cell_type": "code",
   "execution_count": 7,
   "metadata": {},
   "outputs": [
    {
     "data": {
      "text/plain": [
       "[22, 10, 7]"
      ]
     },
     "execution_count": 7,
     "metadata": {},
     "output_type": "execute_result"
    }
   ],
   "source": [
    "import copy\n",
    "# 6. Write a Python program to find N largest elements from a list?\n",
    "def n_large(n:int,data:list):\n",
    "    c_data=copy.deepcopy(data)\n",
    "    for i in range(len(data)):\n",
    "        for j in range(len(data)-i-1):\n",
    "            if data[j]<data[j+1]:\n",
    "                temp=data[j]\n",
    "                data[j]=data[j+1]\n",
    "                data[j+1]=temp\n",
    "    res=data[:n]\n",
    "    data=c_data\n",
    "    return res\n",
    "\n",
    "#test\n",
    "n_large(3,test_data)"
   ]
  },
  {
   "cell_type": "code",
   "execution_count": 8,
   "metadata": {},
   "outputs": [
    {
     "name": "stdout",
     "output_type": "stream",
     "text": [
      "22\n",
      "10\n",
      "6\n"
     ]
    }
   ],
   "source": [
    "# 7. Write a Python program to print even numbers in a list?\n",
    "def evens(data:list):\n",
    "    for num in data:\n",
    "        if(num%2==0):\n",
    "            print(num)\n",
    "\n",
    "#test data\n",
    "evens(test_data)"
   ]
  },
  {
   "cell_type": "code",
   "execution_count": 9,
   "metadata": {},
   "outputs": [
    {
     "name": "stdout",
     "output_type": "stream",
     "text": [
      "7\n",
      "5\n",
      "1\n",
      "-5\n"
     ]
    }
   ],
   "source": [
    "# 8. Write a Python program to print odd numbers in a List?\n",
    "def odds(data:list):\n",
    "    for num in data:\n",
    "        if(num%2!=0):\n",
    "            print(num)\n",
    "\n",
    "#test data\n",
    "odds(test_data)"
   ]
  },
  {
   "cell_type": "code",
   "execution_count": 10,
   "metadata": {},
   "outputs": [],
   "source": [
    "#list\n",
    "a_data=[[],test_data,[],test_data]"
   ]
  },
  {
   "cell_type": "code",
   "execution_count": 11,
   "metadata": {},
   "outputs": [
    {
     "data": {
      "text/plain": [
       "[[22, 10, 7, 6, 5, 1, -5], [22, 10, 7, 6, 5, 1, -5]]"
      ]
     },
     "execution_count": 11,
     "metadata": {},
     "output_type": "execute_result"
    }
   ],
   "source": [
    "# 9. Write a Python program to Remove empty List from List?\n",
    "def rem_emp(data:list):\n",
    "    count=len(data)-1\n",
    "    while(count!=-1):\n",
    "        if(len(data[count])==0):\n",
    "            data.pop(count)\n",
    "        count-=1\n",
    "    return data\n",
    "\n",
    "rem_emp(a_data)"
   ]
  },
  {
   "cell_type": "code",
   "execution_count": 12,
   "metadata": {},
   "outputs": [
    {
     "name": "stdout",
     "output_type": "stream",
     "text": [
      "[22, 10, 7, 6, 5, 1, -5]\n",
      "[22, 10, 7, 6, 5, 1, -5]\n"
     ]
    }
   ],
   "source": [
    "# 10. Write a Python program to Cloning or Copying a list?\n",
    "def copy_list(data:list):\n",
    "    result=[]\n",
    "    for num in data:\n",
    "        result.append(num)\n",
    "    return result\n",
    "\n",
    "#testing\n",
    "list_copy=copy_list(test_data)\n",
    "print(test_data)\n",
    "print(list_copy)"
   ]
  },
  {
   "cell_type": "code",
   "execution_count": 16,
   "metadata": {},
   "outputs": [
    {
     "data": {
      "text/plain": [
       "3"
      ]
     },
     "execution_count": 16,
     "metadata": {},
     "output_type": "execute_result"
    }
   ],
   "source": [
    "# 11. Write a Python program to Count occurrences of an element in a list?\n",
    "def list_ele_count(data:list,element:int):\n",
    "    result=0\n",
    "    for num in data:\n",
    "        if num==element:\n",
    "            result+=1\n",
    "    return result\n",
    "#test\n",
    "input_data=[1,5,4,6,7,3,4,1,4]\n",
    "list_ele_count(input_data,4)"
   ]
  }
 ],
 "metadata": {
  "kernelspec": {
   "display_name": "Python 3.9.7 ('base')",
   "language": "python",
   "name": "python3"
  },
  "language_info": {
   "codemirror_mode": {
    "name": "ipython",
    "version": 3
   },
   "file_extension": ".py",
   "mimetype": "text/x-python",
   "name": "python",
   "nbconvert_exporter": "python",
   "pygments_lexer": "ipython3",
   "version": "3.9.7"
  },
  "orig_nbformat": 4,
  "vscode": {
   "interpreter": {
    "hash": "2db0b17aa99747902bf31a3be56921a7b088ca8acbbc2c2d7a1e20d80247349f"
   }
  }
 },
 "nbformat": 4,
 "nbformat_minor": 2
}
