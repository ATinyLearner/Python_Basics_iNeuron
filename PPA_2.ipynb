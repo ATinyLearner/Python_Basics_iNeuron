{
 "cells": [
  {
   "cell_type": "markdown",
   "metadata": {},
   "source": [
    "###### 1. Write a Python program to convert kilometers to miles?\n",
    "###### 2. Write a Python program to convert Celsius to Fahrenheit?\n",
    "###### 3. Write a Python program to display calendar?\n",
    "###### 4. Write a Python program to solve quadratic equation?\n",
    "###### 5. Write a Python program to swap two variables without temp variable?"
   ]
  },
  {
   "cell_type": "code",
   "execution_count": 2,
   "metadata": {},
   "outputs": [
    {
     "name": "stdout",
     "output_type": "stream",
     "text": [
      "100 km = 62.14 miles\n"
     ]
    }
   ],
   "source": [
    "# 1. Write a Python program to convert kilometers to miles? 1km = 0.62137119 miles\n",
    "unit_km_mile=0.62137119\n",
    "km=int(input(\"Enter km = \"))\n",
    "print(f\"{km} km = {round(km*unit_km_mile,2)} miles\")"
   ]
  },
  {
   "cell_type": "code",
   "execution_count": 3,
   "metadata": {},
   "outputs": [
    {
     "name": "stdout",
     "output_type": "stream",
     "text": [
      "20 celcius = 68.0 farenhite\n"
     ]
    }
   ],
   "source": [
    "# 2. Write a Python program to convert Celsius to Fahrenheit? c/5=f-32/9\n",
    "c=int(input(\"Enter celcius = \"))\n",
    "f=(9*(c/5))+32\n",
    "print(f\"{c} celcius = {round(f,2)} farenhite\")"
   ]
  },
  {
   "cell_type": "code",
   "execution_count": 4,
   "metadata": {},
   "outputs": [
    {
     "name": "stdout",
     "output_type": "stream",
     "text": [
      "    October 2022\n",
      "Mo Tu We Th Fr Sa Su\n",
      "                1  2\n",
      " 3  4  5  6  7  8  9\n",
      "10 11 12 13 14 15 16\n",
      "17 18 19 20 21 22 23\n",
      "24 25 26 27 28 29 30\n",
      "31\n",
      "\n"
     ]
    }
   ],
   "source": [
    "# 3. Write a Python program to display calendar?\n",
    "import calendar\n",
    "\n",
    "year=int(input(\"Enter year:\"))\n",
    "month=int(input(\"Enter month:\"))\n",
    "\n",
    "print(calendar.month(year,month))"
   ]
  },
  {
   "cell_type": "code",
   "execution_count": 7,
   "metadata": {},
   "outputs": [
    {
     "name": "stdout",
     "output_type": "stream",
     "text": [
      "Solution for 1x^2+(3)x+(-28)=0 is 4.0 and -7.0\n"
     ]
    }
   ],
   "source": [
    "import math\n",
    "# 4. Write a Python program to solve quadratic equation? ax^2+bx+c=0\n",
    "a=int(input(\"a = \"))\n",
    "b=int(input(\"b = \"))\n",
    "c=int(input(\"c = \"))\n",
    "sol1=(-b+math.sqrt((b**2)-(4*a*c)))/(2*a)\n",
    "sol2=(-b-math.sqrt((b**2)-(4*a*c)))/(2*a)\n",
    "print(f\"Solution for {a}x^2+({b})x+({c})=0 is {sol1} and {sol2}\")"
   ]
  },
  {
   "cell_type": "code",
   "execution_count": 8,
   "metadata": {},
   "outputs": [
    {
     "name": "stdout",
     "output_type": "stream",
     "text": [
      "20\n",
      "10\n"
     ]
    }
   ],
   "source": [
    "# 5. Write a Python program to swap two variables without temp variable?\n",
    "val_1=10\n",
    "val_2=20\n",
    "# swapping\n",
    "val_1,val_2=val_2,val_1\n",
    "print(val_1)\n",
    "print(val_2)"
   ]
  }
 ],
 "metadata": {
  "kernelspec": {
   "display_name": "Python 3.9.7 ('base')",
   "language": "python",
   "name": "python3"
  },
  "language_info": {
   "codemirror_mode": {
    "name": "ipython",
    "version": 3
   },
   "file_extension": ".py",
   "mimetype": "text/x-python",
   "name": "python",
   "nbconvert_exporter": "python",
   "pygments_lexer": "ipython3",
   "version": "3.9.7"
  },
  "orig_nbformat": 4,
  "vscode": {
   "interpreter": {
    "hash": "2db0b17aa99747902bf31a3be56921a7b088ca8acbbc2c2d7a1e20d80247349f"
   }
  }
 },
 "nbformat": 4,
 "nbformat_minor": 2
}
