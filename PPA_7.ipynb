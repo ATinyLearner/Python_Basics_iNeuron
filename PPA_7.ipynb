{
 "cells": [
  {
   "cell_type": "markdown",
   "metadata": {},
   "source": [
    "###### 1. Write a Python Program to find sum of array?\n",
    "###### 2. Write a Python Program to find largest element in an array?\n",
    "###### 3. Write a Python Program for array rotation?\n",
    "###### 4. Write a Python Program to Split the array and add the first part to the end?\n",
    "###### 5. Write a Python Program to check if given array is Monotonic?"
   ]
  },
  {
   "cell_type": "code",
   "execution_count": 5,
   "metadata": {},
   "outputs": [
    {
     "data": {
      "text/plain": [
       "10"
      ]
     },
     "execution_count": 5,
     "metadata": {},
     "output_type": "execute_result"
    }
   ],
   "source": [
    "# 1. Write a Python Program to find sum of array?\n",
    "def sum_arr(arr:list):\n",
    "    total=0\n",
    "    for i in range(len(arr)):\n",
    "        total+=arr[i]\n",
    "    return total\n",
    "# testing\n",
    "sum_arr([2,5,3])"
   ]
  },
  {
   "cell_type": "code",
   "execution_count": 7,
   "metadata": {},
   "outputs": [
    {
     "data": {
      "text/plain": [
       "0"
      ]
     },
     "execution_count": 7,
     "metadata": {},
     "output_type": "execute_result"
    }
   ],
   "source": [
    "# 2. Write a Python Program to find largest element in an array?\n",
    "def max_ele(arr:list):\n",
    "    max_num=arr[0]\n",
    "    for ele in arr:\n",
    "        if(ele>max_num):\n",
    "            max_num=ele\n",
    "    return max_num\n",
    "max_ele([-3,-2,-7,-4,0,-9])"
   ]
  },
  {
   "cell_type": "code",
   "execution_count": 15,
   "metadata": {},
   "outputs": [
    {
     "data": {
      "text/plain": [
       "[8, 7, 9, 6, 5, 2]"
      ]
     },
     "execution_count": 15,
     "metadata": {},
     "output_type": "execute_result"
    }
   ],
   "source": [
    "# 3. Write a Python Program for array rotation?\n",
    "def arr_rot(arr:list):\n",
    "    rot_arr=arr[::-1]\n",
    "    return rot_arr\n",
    "arr_rot([2, 5, 6, 9, 7, 8])"
   ]
  },
  {
   "cell_type": "code",
   "execution_count": 16,
   "metadata": {},
   "outputs": [
    {
     "data": {
      "text/plain": [
       "[6, 5, 2, 8, 7, 9]"
      ]
     },
     "execution_count": 16,
     "metadata": {},
     "output_type": "execute_result"
    }
   ],
   "source": [
    "# 4. Write a Python Program to Split the array and add the first part to the end?\n",
    "def cus_list(arr:int):\n",
    "    size=len(arr)\n",
    "    mid=int(size/2)\n",
    "    half=arr[:mid]\n",
    "    other=arr[mid:size]\n",
    "    return other+half\n",
    "cus_list([8, 7, 9, 6, 5, 2])"
   ]
  },
  {
   "cell_type": "code",
   "execution_count": 19,
   "metadata": {},
   "outputs": [
    {
     "data": {
      "text/plain": [
       "True"
      ]
     },
     "execution_count": 19,
     "metadata": {},
     "output_type": "execute_result"
    }
   ],
   "source": [
    "# 5. Write a Python Program to check if given array is Monotonic?\n",
    "def is_monotonic(arr:list):\n",
    "    temp=arr[0]\n",
    "    res=0\n",
    "    for ele in arr:\n",
    "        if(ele<temp):\n",
    "            res=1\n",
    "        else:\n",
    "            temp=ele\n",
    "    if(res==1):\n",
    "        return False\n",
    "    else:\n",
    "        return True\n",
    "\n",
    "is_monotonic([1,5,9,56])"
   ]
  }
 ],
 "metadata": {
  "kernelspec": {
   "display_name": "Python 3.9.7 ('base')",
   "language": "python",
   "name": "python3"
  },
  "language_info": {
   "codemirror_mode": {
    "name": "ipython",
    "version": 3
   },
   "file_extension": ".py",
   "mimetype": "text/x-python",
   "name": "python",
   "nbconvert_exporter": "python",
   "pygments_lexer": "ipython3",
   "version": "3.9.7"
  },
  "orig_nbformat": 4,
  "vscode": {
   "interpreter": {
    "hash": "2db0b17aa99747902bf31a3be56921a7b088ca8acbbc2c2d7a1e20d80247349f"
   }
  }
 },
 "nbformat": 4,
 "nbformat_minor": 2
}
