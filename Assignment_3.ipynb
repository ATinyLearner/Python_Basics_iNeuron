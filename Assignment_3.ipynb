{
 "cells": [
  {
   "cell_type": "markdown",
   "metadata": {},
   "source": [
    "##### 1. Why are functions advantageous to have in your programs?\n",
    "##### Ans: Function are very helpful as they are like a small piece of code snippet. We can execute them many times just by calling the function as well as we can execute them with different values. This saves time and complexity of code.\n",
    "##### 2. When does the code in a function run: when it's specified or when it's called?\n",
    "##### Ans: When it is called then it runs.\n",
    "##### 3. What statement creates a function?\n",
    "##### Ans: \tdef function_name():\n",
    "##### \t\tstatements\n",
    "##### 4. What is the difference between a function and a function call?\n",
    "#####  Ans: Function is a small code snippet which can accept parameters and returns result also it executes some statements.\n",
    "##### Whereas a function call is a piece of code by executing that we provide control to that function.\n",
    "##### 5. How many global scopes are there in a Python program? How many local scopes?\n",
    "##### Ans: In a python program there are several local scope and there is only one global scope.\n",
    "##### 6. What happens to variables in a local scope when the function call returns?\n",
    "##### Ans:  After function call returns those variables are destroyed.\n",
    "##### 7. What is the concept of a return value? Is it possible to have a return value in an expression?\n",
    "##### Ans: Return value returns a result after calling the function.\n",
    "##### Expression can not have a return value as expression can not be called.\n",
    "##### 8. If a function does not have a return statement, what is the return value of a call to that function?\n",
    "##### Ans: It returns None.\n",
    "##### 9. How do you make a function variable refer to the global variable?\n",
    "##### Ans: By simply mentioning it inside function block.\n",
    "##### 10. What is the data type of None?\n",
    "##### Ans: None has a data type of NoneType.\n",
    "##### 11. What does the sentence import areallyourpetsnamederic do?\n",
    "##### Ans:  This should import the module areallyourpetsnamederic. By using this import we can access any function or variable inside this module.\n",
    "##### 12. If you had a bacon() feature in a spam module, what would you call it after importing spam?\n",
    "##### Ans: spam.bacon()\n",
    "##### 13. What can you do to save a programme from crashing if it encounters an error?\n",
    "##### Ans: we shall try to catch the error using try except .\n",
    "##### 14. What is the purpose of the try clause? What is the purpose of the except clause?\n",
    "##### Ans: inside try block we shall write the code where we can expect some error.\n",
    "##### Inside except block we shall write code which we want to execute if try block code is having some error. "
   ]
  }
 ],
 "metadata": {
  "language_info": {
   "name": "python"
  },
  "orig_nbformat": 4
 },
 "nbformat": 4,
 "nbformat_minor": 2
}
