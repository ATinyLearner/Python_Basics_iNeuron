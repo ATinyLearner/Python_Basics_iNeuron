{
 "cells": [
  {
   "cell_type": "markdown",
   "metadata": {},
   "source": [
    "1. To what does a relative path refer?\n",
    "2. What does an absolute path start with your operating system?\n",
    "3. What do the functions os.getcwd() and os.chdir() do?\n",
    "4. What are the . and .. folders?\n",
    "5. In C:\\bacon\\eggs\\spam.txt, which part is the dir name, and which part is the base name?\n",
    "6. What are the three “mode” arguments that can be passed to the open() function?\n",
    "7. What happens if an existing file is opened in write mode?\n",
    "8. How do you tell the difference between read() and readlines()?\n",
    "9. What data structure does a shelf value resemble?\n",
    "# Answers"
   ]
  },
  {
   "cell_type": "markdown",
   "metadata": {},
   "source": [
    "1. A relative path is a way to specify the location of a directory relative to another directory.\n",
    "2. Absolute path starts with drive letter in windows and then a ':\\' along with other folder separated by other '\\' Here is an example.D:\\CodesP\\PythonP\\ineuron\\Assignment 7.ipynb\n",
    "3. getcwd() method is used to get the current working directory of a process. os.chdir() it will change the directory.\n",
    "4. .. used for exiting from current folder and come to parent folder.\n",
    "5. dirname is used for getting the path for the given directory. basename is used to get the present directory name.\n",
    "6. mode in open is basicaly 'r' for read , 'w' for write , 'a' for append and there are some other modes also in open method.\n",
    "7. then non empty file content will be deleted and if file is not present then it will create a new one.\n",
    "8. readline() will only read one line from the given txt file and readlines() will read all lines from the given txt file.\n",
    "9. that is shelve."
   ]
  },
  {
   "cell_type": "code",
   "execution_count": null,
   "metadata": {},
   "outputs": [],
   "source": []
  }
 ],
 "metadata": {
  "kernelspec": {
   "display_name": "Python 3.9.7 ('base')",
   "language": "python",
   "name": "python3"
  },
  "language_info": {
   "codemirror_mode": {
    "name": "ipython",
    "version": 3
   },
   "file_extension": ".py",
   "mimetype": "text/x-python",
   "name": "python",
   "nbconvert_exporter": "python",
   "pygments_lexer": "ipython3",
   "version": "3.9.7"
  },
  "orig_nbformat": 4,
  "vscode": {
   "interpreter": {
    "hash": "2db0b17aa99747902bf31a3be56921a7b088ca8acbbc2c2d7a1e20d80247349f"
   }
  }
 },
 "nbformat": 4,
 "nbformat_minor": 2
}
