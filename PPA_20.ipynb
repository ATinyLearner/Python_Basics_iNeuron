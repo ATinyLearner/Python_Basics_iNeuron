{
 "cells": [
  {
   "cell_type": "code",
   "execution_count": 1,
   "metadata": {},
   "outputs": [
    {
     "data": {
      "text/plain": [
       "[0, 1729]"
      ]
     },
     "execution_count": 1,
     "metadata": {},
     "output_type": "execute_result"
    }
   ],
   "source": [
    "# Question1\n",
    "# Create a function that takes a list of strings and integers, and filters out the list so that it\n",
    "# returns a list of integers only.\n",
    "def filter_list(data:list):\n",
    "    res=[]\n",
    "    for ele in data:\n",
    "        if(type(ele)==int):\n",
    "            res.append(ele)\n",
    "    return res\n",
    "\n",
    "#testing\n",
    "filter_list([\"A\", 0, \"Edabit\", 1729, \"Python\", \"1729\"])"
   ]
  },
  {
   "cell_type": "code",
   "execution_count": 2,
   "metadata": {},
   "outputs": [
    {
     "data": {
      "text/plain": [
       "[5, 5, 5, 5, 5]"
      ]
     },
     "execution_count": 2,
     "metadata": {},
     "output_type": "execute_result"
    }
   ],
   "source": [
    "# Question2\n",
    "# Given a list of numbers, create a function which returns the list but with each element's\n",
    "# index in the list added to itself. This means you add 0 to the number at index 0, add 1 to the\n",
    "# number at index 1, etc...\n",
    "def add_indexes(data:list):\n",
    "    res=[]\n",
    "    for i in range(len(data)):\n",
    "        res.append(data[i]+i)\n",
    "    return res\n",
    "\n",
    "#testing\n",
    "add_indexes([5,4,3,2,1])"
   ]
  },
  {
   "cell_type": "code",
   "execution_count": 5,
   "metadata": {},
   "outputs": [
    {
     "data": {
      "text/plain": [
       "12.57"
      ]
     },
     "execution_count": 5,
     "metadata": {},
     "output_type": "execute_result"
    }
   ],
   "source": [
    "# Question3\n",
    "# Create a function that takes the height and radius of a cone as arguments and returns the\n",
    "# volume of the cone rounded to the nearest hundredth. See the resources tab for the formula.\n",
    "import math\n",
    "def cone_volume(height:int,radius:int):\n",
    "    vol=math.pi*(radius**2)*(height/3)\n",
    "    return round(vol,2)\n",
    "\n",
    "#testing\n",
    "cone_volume(3,2)"
   ]
  },
  {
   "cell_type": "code",
   "execution_count": 13,
   "metadata": {},
   "outputs": [
    {
     "data": {
      "text/plain": [
       "23220"
      ]
     },
     "execution_count": 13,
     "metadata": {},
     "output_type": "execute_result"
    }
   ],
   "source": [
    "# Question4\n",
    "# This Triangular Number Sequence is generated from a pattern of dots that form a triangle.\n",
    "# The first 5 numbers of the sequence, or dots, are:\n",
    "# 1, 3, 6, 10, 15\n",
    "# This means that the first triangle has just one dot, the second one has three dots, the third one\n",
    "# has 6 dots and so on.\n",
    "# Write a function that gives the number of dots with its corresponding triangle number of the\n",
    "# sequence.\n",
    "def tri_seq(data:int):\n",
    "    num=1\n",
    "    for i in range(2,data+1):\n",
    "        num+=i\n",
    "    return num\n",
    "\n",
    "#testing\n",
    "tri_seq(215)\n"
   ]
  },
  {
   "cell_type": "code",
   "execution_count": 14,
   "metadata": {},
   "outputs": [
    {
     "data": {
      "text/plain": [
       "5"
      ]
     },
     "execution_count": 14,
     "metadata": {},
     "output_type": "execute_result"
    }
   ],
   "source": [
    "# Question5\n",
    "# Create a function that takes a list of numbers between 1 and 10 (excluding one number) and\n",
    "# returns the missing number.\n",
    "def missing_num(data:list):\n",
    "    for i in range(1,11):\n",
    "        if(i not in data):\n",
    "            return i\n",
    "#testing\n",
    "missing_num([1, 2, 3, 4, 6, 7, 8, 9, 10])"
   ]
  }
 ],
 "metadata": {
  "kernelspec": {
   "display_name": "base",
   "language": "python",
   "name": "python3"
  },
  "language_info": {
   "codemirror_mode": {
    "name": "ipython",
    "version": 3
   },
   "file_extension": ".py",
   "mimetype": "text/x-python",
   "name": "python",
   "nbconvert_exporter": "python",
   "pygments_lexer": "ipython3",
   "version": "3.9.7"
  },
  "orig_nbformat": 4,
  "vscode": {
   "interpreter": {
    "hash": "2db0b17aa99747902bf31a3be56921a7b088ca8acbbc2c2d7a1e20d80247349f"
   }
  }
 },
 "nbformat": 4,
 "nbformat_minor": 2
}
