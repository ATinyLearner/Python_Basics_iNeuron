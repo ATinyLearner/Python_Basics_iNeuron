{
 "cells": [
  {
   "attachments": {},
   "cell_type": "markdown",
   "metadata": {},
   "source": [
    "###### 1. Write a Python program to Extract Unique values dictionary values?\n",
    "###### 2. Write a Python program to find the sum of all items in a dictionary?\n",
    "###### 3. Write a Python program to Merging two Dictionaries?\n",
    "###### 4. Write a Python program to convert key-values list to flat dictionary?\n",
    "###### 5. Write a Python program to insertion at the beginning in OrderedDict?\n",
    "###### 6. Write a Python program to check order of character in string using OrderedDict()?\n",
    "###### 7. Write a Python program to sort Python Dictionaries by Key or Value?"
   ]
  },
  {
   "cell_type": "code",
   "execution_count": 15,
   "metadata": {},
   "outputs": [],
   "source": [
    "#sample data\n",
    "data={'key 1': 8,\n",
    " 'key 2': 58,\n",
    " 'key 3': 53,\n",
    " 'key 4': 2,\n",
    " 'key 5': 47,\n",
    " 'key 6': 2,\n",
    " 'key 7': 20,\n",
    " 'key 8': 19,\n",
    " 'key 9': 57,\n",
    " 'key 10': 67}"
   ]
  },
  {
   "cell_type": "code",
   "execution_count": 16,
   "metadata": {},
   "outputs": [
    {
     "data": {
      "text/plain": [
       "{'key 1': 8,\n",
       " 'key 2': 58,\n",
       " 'key 3': 53,\n",
       " 'key 4': 2,\n",
       " 'key 5': 47,\n",
       " 'key 7': 20,\n",
       " 'key 8': 19,\n",
       " 'key 9': 57,\n",
       " 'key 10': 67}"
      ]
     },
     "execution_count": 16,
     "metadata": {},
     "output_type": "execute_result"
    }
   ],
   "source": [
    "# 1. Write a Python program to Extract Unique values dictionary values?\n",
    "def ext_dict(data:dict):\n",
    "    keys=list(data.keys())\n",
    "    res_dict=dict()\n",
    "    for key in keys:\n",
    "        res_values=list(res_dict.values())\n",
    "        if(len(res_dict)==0 or data[key] not in res_values):\n",
    "            res_dict[key]=data[key]\n",
    "        else:\n",
    "            continue\n",
    "    return res_dict\n",
    "\n",
    "#testing\n",
    "ext_dict(data)"
   ]
  },
  {
   "cell_type": "code",
   "execution_count": 17,
   "metadata": {},
   "outputs": [
    {
     "data": {
      "text/plain": [
       "333"
      ]
     },
     "execution_count": 17,
     "metadata": {},
     "output_type": "execute_result"
    }
   ],
   "source": [
    "# 2. Write a Python program to find the sum of all items in a dictionary?\n",
    "def sum_item_dict(data:dict):\n",
    "    vals=list(data.values())\n",
    "    return sum(vals)\n",
    "\n",
    "#testing\n",
    "sum_item_dict(data)"
   ]
  },
  {
   "cell_type": "code",
   "execution_count": 3,
   "metadata": {},
   "outputs": [],
   "source": [
    "#sample 1\n",
    "data1={'key 1': 8,\n",
    " 'key 5': 47,\n",
    " 'key 6': 2,\n",
    " 'key 7': 20,\n",
    " 'key 8': 19,\n",
    " 'key 9': 57,\n",
    " 'key 10': 67}\n",
    " #sample 2\n",
    "data2={'key A': 8,\n",
    " 'key B': 58,\n",
    " 'key C': 53,\n",
    " 'key D': 2,\n",
    " 'key E': 47,\n",
    " 'key F': 2,\n",
    " 'key G': 20,\n",
    " 'key H': 19,\n",
    " 'key I': 57,\n",
    " 'key J': 67}"
   ]
  },
  {
   "cell_type": "code",
   "execution_count": 4,
   "metadata": {},
   "outputs": [
    {
     "data": {
      "text/plain": [
       "{'key A': 8,\n",
       " 'key B': 58,\n",
       " 'key C': 53,\n",
       " 'key D': 2,\n",
       " 'key E': 47,\n",
       " 'key F': 2,\n",
       " 'key G': 20,\n",
       " 'key H': 19,\n",
       " 'key I': 57,\n",
       " 'key J': 67,\n",
       " 'key 1': 8,\n",
       " 'key 5': 47,\n",
       " 'key 6': 2,\n",
       " 'key 7': 20,\n",
       " 'key 8': 19,\n",
       " 'key 9': 57,\n",
       " 'key 10': 67}"
      ]
     },
     "execution_count": 4,
     "metadata": {},
     "output_type": "execute_result"
    }
   ],
   "source": [
    "# 3. Write a Python program to Merging two Dictionaries?\n",
    "def merge_dict(dict1:dict,dict2:dict):\n",
    "    res_dict=dict()\n",
    "    keys1=list(dict1.keys())\n",
    "    keys2=list(dict2.keys())\n",
    "    if(len(keys1)>=len(keys2)):\n",
    "        res_dict=dict1\n",
    "        for key in keys2:\n",
    "            res_dict[key]=dict2[key]\n",
    "    else:\n",
    "        res_dict=dict2\n",
    "        for key in keys1:\n",
    "            res_dict[key]=dict1[key]\n",
    "    return res_dict\n",
    "\n",
    "#testing\n",
    "merge_dict(data1,data2)"
   ]
  },
  {
   "cell_type": "code",
   "execution_count": 3,
   "metadata": {},
   "outputs": [
    {
     "data": {
      "text/plain": [
       "{1: ['Jan', 'cat'], 2: ['Feb', 'mouse'], 3: ['March', 'dog']}"
      ]
     },
     "execution_count": 3,
     "metadata": {},
     "output_type": "execute_result"
    }
   ],
   "source": [
    "# 4. Write a Python program to convert key-values list to flat dictionary?\n",
    "# sample for key-value dictonary\n",
    "test_dict1 = {'month' : [1, 2, 3],'name' : ['Jan', 'Feb', 'March'],'animals':[\"cat\",\"mouse\",\"dog\"]}\n",
    "test_dict2 = {'month' : [1, 2, 3],'name' : ['Jan', 'Feb', 'March']}\n",
    "def make_flat_dict(data:dict):\n",
    "    res=dict()\n",
    "    vals=list(data.values())\n",
    "    vals_dict=list(data.values())\n",
    "    if(len(vals)>2):\n",
    "        for i in range(len(vals_dict[0])):\n",
    "            temp_vals=[]\n",
    "            for j in range(1,len(vals_dict[0])):\n",
    "                temp_vals.append(vals_dict[j][i])\n",
    "            res[vals_dict[0][i]]=temp_vals\n",
    "    else:\n",
    "        for i in range(len(vals_dict[0])):\n",
    "            res[vals_dict[0][i]]=vals_dict[1][i]\n",
    "    return res\n",
    "\n",
    "#testing\n",
    "make_flat_dict(test_dict1)\n",
    "\n",
    "        "
   ]
  },
  {
   "cell_type": "code",
   "execution_count": 4,
   "metadata": {},
   "outputs": [
    {
     "data": {
      "text/plain": [
       "odict_values(['I', ' ', 'a', 'm', ' ', 'A', 'v', 'i', 'k'])"
      ]
     },
     "execution_count": 4,
     "metadata": {},
     "output_type": "execute_result"
    }
   ],
   "source": [
    "# 6. Write a Python program to check order of character in string using OrderedDict()?\n",
    "from collections import OrderedDict\n",
    "def odd_char(data:str):\n",
    "    temp_data=[]\n",
    "    for i in range(len(data)):\n",
    "        temp_tuple=(i,data[i])\n",
    "        temp_data.append(temp_tuple)\n",
    "    str_data=OrderedDict(temp_data)\n",
    "    return str_data\n",
    "\n",
    "#testing\n",
    "odr_dict=odd_char(\"I am Avik\")\n",
    "odr_dict.values()"
   ]
  },
  {
   "cell_type": "code",
   "execution_count": 6,
   "metadata": {},
   "outputs": [
    {
     "data": {
      "text/plain": [
       "OrderedDict([(10, 2),\n",
       "             (56, 2),\n",
       "             (23, 8),\n",
       "             (21, 19),\n",
       "             (33, 20),\n",
       "             (100, 47),\n",
       "             (1, 53),\n",
       "             (88, 57),\n",
       "             (68, 58),\n",
       "             (5, 67)])"
      ]
     },
     "execution_count": 6,
     "metadata": {},
     "output_type": "execute_result"
    }
   ],
   "source": [
    "# 7. Write a Python program to sort Python Dictionaries by Key or Value?\n",
    "from collections import OrderedDict\n",
    "import copy\n",
    "#sample values\n",
    "data1={23: 8,\n",
    " 68: 58,\n",
    " 1: 53,\n",
    " 10: 2,\n",
    " 100: 47,\n",
    " 56: 2,\n",
    " 33: 20,\n",
    " 21: 19,\n",
    " 88: 57,\n",
    " 5: 67}\n",
    "def sort_dict(data:dict,data2:str):\n",
    "    data1=copy.deepcopy(data)\n",
    "    res=OrderedDict()\n",
    "    keys=list(data1.keys())\n",
    "    if data2==\"keys\":\n",
    "        keys.sort()\n",
    "        for key in keys:\n",
    "            res[key]=data1[key]\n",
    "        return res\n",
    "    else:\n",
    "        vals=list(data1.values())\n",
    "        vals.sort()\n",
    "        for val in vals:\n",
    "            for key, value in data1.items():\n",
    "                if val == value and key not in list(res.keys()):\n",
    "                    res[key]=val\n",
    "                    \n",
    "        return res\n",
    "\n",
    "#testing\n",
    "sort_dict(data1,\"keys\") #using keys\n",
    "# print(\"*******************************\")\n",
    "sort_dict(data1,\"values\") #using values\n",
    "\n",
    "            "
   ]
  }
 ],
 "metadata": {
  "kernelspec": {
   "display_name": "Python 3.9.7 ('base')",
   "language": "python",
   "name": "python3"
  },
  "language_info": {
   "codemirror_mode": {
    "name": "ipython",
    "version": 3
   },
   "file_extension": ".py",
   "mimetype": "text/x-python",
   "name": "python",
   "nbconvert_exporter": "python",
   "pygments_lexer": "ipython3",
   "version": "3.9.7"
  },
  "orig_nbformat": 4,
  "vscode": {
   "interpreter": {
    "hash": "2db0b17aa99747902bf31a3be56921a7b088ca8acbbc2c2d7a1e20d80247349f"
   }
  }
 },
 "nbformat": 4,
 "nbformat_minor": 2
}
