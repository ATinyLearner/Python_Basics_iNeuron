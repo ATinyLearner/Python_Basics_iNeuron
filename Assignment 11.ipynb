{
 "cells": [
  {
   "cell_type": "markdown",
   "metadata": {},
   "source": [
    "1. Create an assert statement that throws an AssertionError if the variable spam is a negative integer.\n",
    "2. Write an assert statement that triggers an AssertionError if the variables eggs and bacon contain strings that are the same as each other, even if their cases are different (that is, 'hello' and 'hello' are considered the same, and 'goodbye' and 'GOODbye' are also considered the same).\n",
    "3. Create an assert statement that throws an AssertionError every time.\n",
    "4. What are the two lines that must be present in your software in order to call logging.debug()?\n",
    "5. What are the two lines that your program must have in order to have logging.debug() send a logging message to a file named programLog.txt?\n",
    "6. What are the five levels of logging?\n",
    "7. What line of code would you add to your software to disable all logging messages?\n",
    "8.Why is using logging messages better than using print() to display the same message?\n",
    "9. What are the differences between the Step Over, Step In, and Step Out buttons in the debugger?\n",
    "10.After you click Continue, when will the debugger stop ?\n",
    "11. What is the concept of a breakpoint?\n"
   ]
  },
  {
   "cell_type": "code",
   "execution_count": 7,
   "metadata": {},
   "outputs": [],
   "source": [
    "#ans of 1\n",
    "spam=int(input(\"Enter value of spam:\"))\n",
    "assert spam>0,\"Negative Integer\""
   ]
  },
  {
   "cell_type": "code",
   "execution_count": 9,
   "metadata": {},
   "outputs": [],
   "source": [
    "#ans of 2\n",
    "eggs=input(\"Enter value of eggs:\").lower()\n",
    "bacon=input(\"Enter value of bacon:\").lower()\n",
    "assert eggs!=bacon,\"Same as each other!\""
   ]
  },
  {
   "cell_type": "code",
   "execution_count": 10,
   "metadata": {},
   "outputs": [
    {
     "ename": "AssertionError",
     "evalue": "Error all time",
     "output_type": "error",
     "traceback": [
      "\u001b[1;31m---------------------------------------------------------------------------\u001b[0m",
      "\u001b[1;31mAssertionError\u001b[0m                            Traceback (most recent call last)",
      "\u001b[1;32md:\\CodesP\\PythonP\\ineuron\\Assignment 11.ipynb Cell 4\u001b[0m in \u001b[0;36m<cell line: 2>\u001b[1;34m()\u001b[0m\n\u001b[0;32m      <a href='vscode-notebook-cell:/d%3A/CodesP/PythonP/ineuron/Assignment%2011.ipynb#W2sZmlsZQ%3D%3D?line=0'>1</a>\u001b[0m \u001b[39m#ans of 3\u001b[39;00m\n\u001b[1;32m----> <a href='vscode-notebook-cell:/d%3A/CodesP/PythonP/ineuron/Assignment%2011.ipynb#W2sZmlsZQ%3D%3D?line=1'>2</a>\u001b[0m \u001b[39massert\u001b[39;00m \u001b[39m0\u001b[39m\u001b[39m>\u001b[39m\u001b[39m10\u001b[39m,\u001b[39m\"\u001b[39m\u001b[39mError all time\u001b[39m\u001b[39m\"\u001b[39m\n",
      "\u001b[1;31mAssertionError\u001b[0m: Error all time"
     ]
    }
   ],
   "source": [
    "#ans of 3\n",
    "assert 0>10,\"Error all time\""
   ]
  },
  {
   "cell_type": "code",
   "execution_count": 2,
   "metadata": {},
   "outputs": [
    {
     "name": "stderr",
     "output_type": "stream",
     "text": [
      "DEBUG:root:This is the debug message\n"
     ]
    }
   ],
   "source": [
    "#ans of 4\n",
    "import logging #used for getting this logging module\n",
    "logging.basicConfig(level=logging.DEBUG) #for logging all calls\n",
    "logging.debug('This is the debug message')"
   ]
  },
  {
   "cell_type": "code",
   "execution_count": 12,
   "metadata": {},
   "outputs": [
    {
     "name": "stderr",
     "output_type": "stream",
     "text": [
      "DEBUG:root:This is the debug message\n",
      "WARNING:root:You are given a warning!\n"
     ]
    }
   ],
   "source": [
    "#ans of 5\n",
    "logging.basicConfig(level=logging.DEBUG,filename='programLog.txt',filemode='a',format='%(asctime)s,%(msecs)d %(name)s %(levelname)s %(message)s',\n",
    "                    datefmt='%H:%M:%S')\n",
    "logging.debug('This is the debug message')\n",
    "logging.warning('You are given a warning!')\n",
    "logger=logging.getLogger(\"Test Data\")"
   ]
  },
  {
   "cell_type": "markdown",
   "metadata": {},
   "source": [
    "6. Five levels of logging\n",
    "###### DEBUG:Provide most detailed informations about diagonostic problems\n",
    "###### INFO:Confirmation of things of their working\n",
    "###### WARNING:Indication of some error or a problem in the future.\n",
    "###### ERROR:Informs about serious problem for which program will be unable to perform something.\n",
    "###### CRITICAL: Informs about serious problem for which program can not be executed.\n"
   ]
  },
  {
   "cell_type": "code",
   "execution_count": null,
   "metadata": {},
   "outputs": [],
   "source": [
    "# ans of 7\n",
    "logger.propagate=False"
   ]
  },
  {
   "cell_type": "markdown",
   "metadata": {},
   "source": [
    "###### Answer of 8\n",
    "###### 1.Logging makes it really easy to get details about line numbers and exact error of execution whereas print only provides the message.\n",
    "###### 2.We can create log files to track of problems and all the checks.\n",
    "###### 3.logging also gives us option for severity checks."
   ]
  },
  {
   "cell_type": "markdown",
   "metadata": {},
   "source": [
    "###### Answer of 8\n",
    "###### Stepin: Stepin does line by line code execution. If a line includes a function then every line of that function will also be executed.\n",
    "###### Stepout:This command lets the application execute until currently executed operation implementation is returned.\n",
    "###### Stepover: Stepover executes code one after another action. If a function is on the line it will not execute line by line of that function it will directly run that function and go to next step."
   ]
  },
  {
   "cell_type": "markdown",
   "metadata": {},
   "source": [
    "###### Answer of 9\n",
    "###### python debugging stops at breakpoint."
   ]
  },
  {
   "cell_type": "markdown",
   "metadata": {},
   "source": [
    "###### Answer of 10\n",
    "###### After clicking continue the debugger will stop on breakpoints."
   ]
  }
 ],
 "metadata": {
  "kernelspec": {
   "display_name": "Python 3.9.7 ('base')",
   "language": "python",
   "name": "python3"
  },
  "language_info": {
   "codemirror_mode": {
    "name": "ipython",
    "version": 3
   },
   "file_extension": ".py",
   "mimetype": "text/x-python",
   "name": "python",
   "nbconvert_exporter": "python",
   "pygments_lexer": "ipython3",
   "version": "3.9.7"
  },
  "orig_nbformat": 4,
  "vscode": {
   "interpreter": {
    "hash": "2db0b17aa99747902bf31a3be56921a7b088ca8acbbc2c2d7a1e20d80247349f"
   }
  }
 },
 "nbformat": 4,
 "nbformat_minor": 2
}
