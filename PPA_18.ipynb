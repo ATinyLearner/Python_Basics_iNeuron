{
 "cells": [
  {
   "cell_type": "code",
   "execution_count": 1,
   "metadata": {},
   "outputs": [
    {
     "data": {
      "text/plain": [
       "[1, 2]"
      ]
     },
     "execution_count": 1,
     "metadata": {},
     "output_type": "execute_result"
    }
   ],
   "source": [
    "# Question 1\n",
    "# Create a function that takes a list of non-negative integers and strings and return a new list\n",
    "# without the strings.\n",
    "def filter_list(data:list):\n",
    "    temp=[]\n",
    "    for element in data:\n",
    "        if(type(element) is int):\n",
    "            temp.append(element)\n",
    "    return temp\n",
    "\n",
    "#testing\n",
    "filter_list([1,2,\"a\",\"b\"])"
   ]
  },
  {
   "cell_type": "code",
   "execution_count": 4,
   "metadata": {},
   "outputs": [
    {
     "data": {
      "text/plain": [
       "'DLROw OLLEh'"
      ]
     },
     "execution_count": 4,
     "metadata": {},
     "output_type": "execute_result"
    }
   ],
   "source": [
    "# Question 2\n",
    "# The \"Reverser\" takes a string as input and returns that string in reverse order, with the\n",
    "# opposite case.\n",
    "def reverser(data:str):\n",
    "    rev_data=data[::-1]\n",
    "    temp=[]\n",
    "    for i in range(len(rev_data)):\n",
    "        if(rev_data[i].islower()):\n",
    "            temp.append(rev_data[i].upper())\n",
    "        elif(rev_data[i].isupper()):\n",
    "            temp.append(rev_data[i].lower())\n",
    "        else:\n",
    "            temp.append(rev_data[i])\n",
    "    temp=\"\".join(temp)\n",
    "    return temp\n",
    "\n",
    "#testing\n",
    "reverser(\"Hello World\")"
   ]
  },
  {
   "cell_type": "code",
   "execution_count": 1,
   "metadata": {},
   "outputs": [
    {
     "name": "stdout",
     "output_type": "stream",
     "text": [
      "1\n",
      "[2, 3, 4, 5]\n",
      "6\n"
     ]
    }
   ],
   "source": [
    "# Question 3:\n",
    "# You can assign variables from lists like this:\n",
    "# Your task is to unpack the list writeyourcodehere into three variables, being first,\n",
    "# middle, and last, with middle being everything in between the first and last element. Then\n",
    "# print all three variables.\n",
    "\n",
    "sample_list=[1, 2, 3, 4, 5, 6]\n",
    "\n",
    "first=sample_list[0]\n",
    "middle=sample_list[1:-1]\n",
    "last=sample_list[-1]\n",
    "\n",
    "print(first)\n",
    "print(middle)\n",
    "print(last)"
   ]
  },
  {
   "cell_type": "code",
   "execution_count": 2,
   "metadata": {},
   "outputs": [
    {
     "data": {
      "text/plain": [
       "120"
      ]
     },
     "execution_count": 2,
     "metadata": {},
     "output_type": "execute_result"
    }
   ],
   "source": [
    "# Question 4\n",
    "# Write a function that calculates the factorial of a number recursively.\n",
    "def fact(num:int):\n",
    "    if(num==0):\n",
    "        return 1\n",
    "    else:\n",
    "        return num*fact(num-1)\n",
    "\n",
    "#testing\n",
    "fact(5)"
   ]
  },
  {
   "cell_type": "code",
   "execution_count": 6,
   "metadata": {},
   "outputs": [
    {
     "data": {
      "text/plain": [
       "[8, 1, 2, 3, 4, 9, 7, 7, 7]"
      ]
     },
     "execution_count": 6,
     "metadata": {},
     "output_type": "execute_result"
    }
   ],
   "source": [
    "# Question 5\n",
    "# Write a function that moves all elements of one type to the end of the list.\n",
    "def move_to_end(data1:list,data2):\n",
    "    d_count=data1.count(data2)\n",
    "    for i in range(d_count):\n",
    "        indx=data1.index(data2)\n",
    "        data1.pop(indx)\n",
    "        data1.append(data2)\n",
    "\n",
    "    return data1\n",
    "\n",
    "#testing\n",
    "move_to_end([7, 8,7, 1,7, 2, 3, 4, 9],7)\n"
   ]
  }
 ],
 "metadata": {
  "kernelspec": {
   "display_name": "base",
   "language": "python",
   "name": "python3"
  },
  "language_info": {
   "codemirror_mode": {
    "name": "ipython",
    "version": 3
   },
   "file_extension": ".py",
   "mimetype": "text/x-python",
   "name": "python",
   "nbconvert_exporter": "python",
   "pygments_lexer": "ipython3",
   "version": "3.9.7"
  },
  "orig_nbformat": 4,
  "vscode": {
   "interpreter": {
    "hash": "2db0b17aa99747902bf31a3be56921a7b088ca8acbbc2c2d7a1e20d80247349f"
   }
  }
 },
 "nbformat": 4,
 "nbformat_minor": 2
}
