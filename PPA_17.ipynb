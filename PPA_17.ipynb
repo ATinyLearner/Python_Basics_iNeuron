{
 "cells": [
  {
   "cell_type": "code",
   "execution_count": 10,
   "metadata": {},
   "outputs": [
    {
     "data": {
      "text/plain": [
       "30"
      ]
     },
     "execution_count": 10,
     "metadata": {},
     "output_type": "execute_result"
    }
   ],
   "source": [
    "#Question1. Create a function that takes three arguments a, b, c and returns the sum of the\n",
    "#numbers that are evenly divided by c from the range a, b inclusive.\n",
    "def even_divided(start:int,end:int,div:int):\n",
    "    res=0\n",
    "    for i in range(start,end+1):\n",
    "        if(i%div==0):\n",
    "            res+=i\n",
    "    return res\n",
    "\n",
    "#testing\n",
    "even_divided(1,10,2)"
   ]
  },
  {
   "cell_type": "code",
   "execution_count": 14,
   "metadata": {},
   "outputs": [
    {
     "name": "stdout",
     "output_type": "stream",
     "text": [
      "True\n",
      "False\n"
     ]
    }
   ],
   "source": [
    "#Question2. Create a function that returns True if a given inequality expression is correct and\n",
    "#False otherwise.\n",
    "def check_ineql(expr:str):\n",
    "    signs=[\">\",\"<\"]\n",
    "    data=expr.split(\" \")\n",
    "    pt1=0\n",
    "    pt2=0\n",
    "    sign=\"\"\n",
    "    if(len(data)>3):\n",
    "        for i in range(0,len(data)-2,2):\n",
    "            pt1=int(data[i])\n",
    "            sign=data[i+1]\n",
    "            pt2=int(data[i+2])\n",
    "            if(signs.index(sign)==0):\n",
    "                if(pt1<pt2):\n",
    "                    return False\n",
    "            if(signs.index(sign)==1):\n",
    "                if(pt1>pt2):\n",
    "                    return False\n",
    "        return True\n",
    "    else:\n",
    "        return False\n",
    "\n",
    "#testing\n",
    "print(check_ineql(\"3 > 2 < 42\"))\n",
    "print(check_ineql(\"3 > 2 < 42 > 100\"))"
   ]
  },
  {
   "cell_type": "code",
   "execution_count": 17,
   "metadata": {},
   "outputs": [
    {
     "data": {
      "text/plain": [
       "'m?nn?? m??s?'"
      ]
     },
     "execution_count": 17,
     "metadata": {},
     "output_type": "execute_result"
    }
   ],
   "source": [
    "#Question3. Create a function that replaces all the vowels in a string with a specified character.\n",
    "def replace_vowels(data:str,sign:str):\n",
    "    vowels=['a','e','i','o','u']\n",
    "    temp_data=[]\n",
    "    for i in range(len(data)):\n",
    "        if data[i] in vowels:\n",
    "            temp_data.append(sign)\n",
    "        else:\n",
    "            temp_data.append(data[i])\n",
    "    data=\"\".join(temp_data)\n",
    "    return data\n",
    "\n",
    "#testing\n",
    "replace_vowels(\"minnie mouse\",\"?\")"
   ]
  },
  {
   "cell_type": "code",
   "execution_count": 19,
   "metadata": {},
   "outputs": [
    {
     "data": {
      "text/plain": [
       "120"
      ]
     },
     "execution_count": 19,
     "metadata": {},
     "output_type": "execute_result"
    }
   ],
   "source": [
    "#Question 4: Write a function that calculates the factorial of a number recursively.\n",
    "def fact(num:int):\n",
    "    if(num==0):\n",
    "        return 1\n",
    "    else:\n",
    "        return num*fact(num-1)\n",
    "\n",
    "#testing\n",
    "fact(5)"
   ]
  },
  {
   "cell_type": "code",
   "execution_count": 20,
   "metadata": {},
   "outputs": [
    {
     "data": {
      "text/plain": [
       "5"
      ]
     },
     "execution_count": 20,
     "metadata": {},
     "output_type": "execute_result"
    }
   ],
   "source": [
    "#Question 5: Hamming distance is the number of characters that differ between two strings.\n",
    "def hamming_dist(data1:str,data2:str):\n",
    "    count=0\n",
    "    for i in range(len(data1)):\n",
    "        if(data1[i]!=data2[i]):\n",
    "            count+=1\n",
    "    return count\n",
    "\n",
    "#testing\n",
    "hamming_dist(\"abcde\", \"bcdef\")"
   ]
  }
 ],
 "metadata": {
  "kernelspec": {
   "display_name": "base",
   "language": "python",
   "name": "python3"
  },
  "language_info": {
   "codemirror_mode": {
    "name": "ipython",
    "version": 3
   },
   "file_extension": ".py",
   "mimetype": "text/x-python",
   "name": "python",
   "nbconvert_exporter": "python",
   "pygments_lexer": "ipython3",
   "version": "3.9.7"
  },
  "orig_nbformat": 4,
  "vscode": {
   "interpreter": {
    "hash": "2db0b17aa99747902bf31a3be56921a7b088ca8acbbc2c2d7a1e20d80247349f"
   }
  }
 },
 "nbformat": 4,
 "nbformat_minor": 2
}
