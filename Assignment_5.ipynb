{
 "cells": [
  {
   "cell_type": "markdown",
   "metadata": {},
   "source": [
    "##### 1. What does an empty dictionary's code look like?\n",
    "##### Ans:  my_dict=dict()\n",
    "##### 2. What is the value of a dictionary value with the key 'foo' and the value 42?\n",
    "##### Ans: my_dict={‘foo’:42}\n",
    "##### 3. What is the most significant distinction between a dictionary and a list?\n",
    "##### Ans: Dictonary is having key value pairs and list is only having values in a sequence. Values of list can be accessed using index of that value whereas Dictonary values can be accessed using key of that value only.\n",
    "##### 4. What happens if you try to access spam['foo'] if spam is {'bar': 100}?\n",
    "##### Ans: we shall have a keyerror from python. As foo key is not available.\n",
    "##### 5. If a dictionary is stored in spam, what is the difference between the expressions 'cat' in spam and 'cat' in spam.keys()?\n",
    "##### Ans: spam.keys() are having type dict_keys whereas expression cat inside spam is indicating a key or a value.\n",
    "##### 6. If a dictionary is stored in spam, what is the difference between the expressions 'cat' in spam and 'cat' in spam.values()?\n",
    "##### Ans: spam.values() return a dict_values type, we can convert that into list or tuple or set.\n",
    "##### cat inside spam can be a key or a value. \n",
    "##### 7. What is a shortcut for the following code?\n",
    "##### if 'color' not in spam:\n",
    "##### spam['color'] = 'black'\n",
    "##### Ans: spam['color'] = ‘’\n",
    "##### 8. How do you \"pretty print\" dictionary values using which module and function?\n",
    "##### Ans: import pprint\n",
    "##### pprint.pprint(dict_name)\n"
   ]
  }
 ],
 "metadata": {
  "language_info": {
   "name": "python"
  },
  "orig_nbformat": 4
 },
 "nbformat": 4,
 "nbformat_minor": 2
}
