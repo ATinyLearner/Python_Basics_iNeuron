{
 "cells": [
  {
   "cell_type": "code",
   "execution_count": 1,
   "metadata": {},
   "outputs": [
    {
     "data": {
      "text/plain": [
       "[3, 6, 9]"
      ]
     },
     "execution_count": 1,
     "metadata": {},
     "output_type": "execute_result"
    }
   ],
   "source": [
    "# Question1\n",
    "# Create a function that takes three parameters where:\n",
    "# x is the start of the range (inclusive).\n",
    "# y is the end of the range (inclusive).\n",
    "# n is the divisor to be checked against.\n",
    "# Return an ordered list with numbers in the range that are divisible by the third parameter n.\n",
    "# Return an empty list if there are no numbers that are divisible by n.\n",
    "def list_operation(x:int,y:int,n:int):\n",
    "    res=[]\n",
    "    for i in range(x,y):\n",
    "        if(i%n==0):\n",
    "            res.append(i)\n",
    "    return res\n",
    "\n",
    "#testing\n",
    "list_operation(1,10,3)"
   ]
  },
  {
   "cell_type": "code",
   "execution_count": 4,
   "metadata": {},
   "outputs": [
    {
     "data": {
      "text/plain": [
       "False"
      ]
     },
     "execution_count": 4,
     "metadata": {},
     "output_type": "execute_result"
    }
   ],
   "source": [
    "# Question2\n",
    "# Create a function that takes in two lists and returns True if the second list follows the first list\n",
    "# by one element, and False otherwise. In other words, determine if the second list is the first\n",
    "# list shifted to the right by 1.\n",
    "\n",
    "def simon_says(data1:list,data2:list):\n",
    "    if(len(data1)==len(data2) and len(data1)>=2):\n",
    "        for i in range(len(data1)-1):\n",
    "            if(i==0):\n",
    "                continue\n",
    "            else:\n",
    "                if(data1[i-1]!=data2[i]):\n",
    "                    return False\n",
    "    else:\n",
    "        return False\n",
    "    return True\n",
    "\n",
    "#testing\n",
    "simon_says([1, 2, 3, 4, 5], [5, 5, 1, 2, 3])"
   ]
  },
  {
   "cell_type": "code",
   "execution_count": 5,
   "metadata": {},
   "outputs": [
    {
     "data": {
      "text/plain": [
       "'CJMPRR'"
      ]
     },
     "execution_count": 5,
     "metadata": {},
     "output_type": "execute_result"
    }
   ],
   "source": [
    "# Question3\n",
    "# A group of friends have decided to start a secret society. The name will be the first letter of\n",
    "# each of their names, sorted in alphabetical order.\n",
    "# Create a function that takes in a list of names and returns the name of the secret society.\n",
    "\n",
    "def society_name(data:list):\n",
    "    res=[]\n",
    "    for name in data:\n",
    "        res.append(name[0])\n",
    "    res=sorted(res)\n",
    "    res=\"\".join(res)\n",
    "    return res.upper()\n",
    "\n",
    "#testing\n",
    "society_name([\"Phoebe\", \"Chandler\", \"Rachel\", \"Ross\", \"Monica\", \"Joey\"])"
   ]
  },
  {
   "cell_type": "code",
   "execution_count": 7,
   "metadata": {},
   "outputs": [
    {
     "data": {
      "text/plain": [
       "True"
      ]
     },
     "execution_count": 7,
     "metadata": {},
     "output_type": "execute_result"
    }
   ],
   "source": [
    "# Question4\n",
    "# An isogram is a word that has no duplicate letters. Create a function that takes a string and\n",
    "# returns either True or False depending on whether or not it's an \"isogram\".\n",
    "def is_isogram(data:str):\n",
    "    temp=set(data.lower())\n",
    "    if(len(data)==len(temp)):\n",
    "        return True\n",
    "    else:\n",
    "        return False\n",
    "\n",
    "#testing\n",
    "is_isogram(\"Algorism\")"
   ]
  },
  {
   "cell_type": "code",
   "execution_count": 9,
   "metadata": {},
   "outputs": [
    {
     "data": {
      "text/plain": [
       "True"
      ]
     },
     "execution_count": 9,
     "metadata": {},
     "output_type": "execute_result"
    }
   ],
   "source": [
    "# Question5\n",
    "# Create a function that takes a string and returns True or False, depending on whether the\n",
    "# characters are in order or not.\n",
    "def is_in_order(data:str):\n",
    "    for i in range(1,len(data)):\n",
    "        char1=data[i-1]\n",
    "        char2=data[i]\n",
    "        if(char2<char1):\n",
    "            return False\n",
    "    return True\n",
    "\n",
    "#testing\n",
    "is_in_order(\"abc\")"
   ]
  }
 ],
 "metadata": {
  "kernelspec": {
   "display_name": "base",
   "language": "python",
   "name": "python3"
  },
  "language_info": {
   "codemirror_mode": {
    "name": "ipython",
    "version": 3
   },
   "file_extension": ".py",
   "mimetype": "text/x-python",
   "name": "python",
   "nbconvert_exporter": "python",
   "pygments_lexer": "ipython3",
   "version": "3.9.7"
  },
  "orig_nbformat": 4,
  "vscode": {
   "interpreter": {
    "hash": "2db0b17aa99747902bf31a3be56921a7b088ca8acbbc2c2d7a1e20d80247349f"
   }
  }
 },
 "nbformat": 4,
 "nbformat_minor": 2
}
